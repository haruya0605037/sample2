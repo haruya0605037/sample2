{
  "nbformat": 4,
  "nbformat_minor": 0,
  "metadata": {
    "colab": {
      "name": "pyhon1w",
      "provenance": [],
      "authorship_tag": "ABX9TyPHGtoSU6hFC1qZhAI7jhpL",
      "include_colab_link": true
    },
    "kernelspec": {
      "name": "python3",
      "display_name": "Python 3"
    },
    "language_info": {
      "name": "python"
    }
  },
  "cells": [
    {
      "cell_type": "markdown",
      "metadata": {
        "id": "view-in-github",
        "colab_type": "text"
      },
      "source": [
        "<a href=\"https://colab.research.google.com/github/haruya0605037/sample2/blob/main/pyhon1w.ipynb\" target=\"_parent\"><img src=\"https://colab.research.google.com/assets/colab-badge.svg\" alt=\"Open In Colab\"/></a>"
      ]
    },
    {
      "cell_type": "markdown",
      "source": [
        "# 1日目2/1 導入～入門1\n",
        "# 見出し1\n",
        "\n",
        "Markdown記法で見やすく文章を書くことができます。\n",
        "\n",
        "## 見出し2\n",
        "\n",
        "**強調**\n",
        "\n",
        "数式を書くこともできます。\n",
        "\n",
        "$$\n",
        "y=2x+1\n",
        "$$\n",
        "\n",
        "Pythonコードを書くときはコードブロックを使います。\n",
        "\n",
        "```python\n",
        "print(\"Hellow,World\")\n",
        "```\n",
        "\n",
        "- 箇条書\n",
        "- 箇条書\n",
        "  - 箇条書\n",
        "\n",
        "\n",
        "> 引用文\n",
        " \n"
      ],
      "metadata": {
        "id": "MBnY2eH7a4bg"
      }
    },
    {
      "cell_type": "code",
      "source": [
        "print(\"Hellow,World!\")\n",
        "print(\"Hellow,Python\")"
      ],
      "metadata": {
        "colab": {
          "base_uri": "https://localhost:8080/"
        },
        "id": "F13kuPKGaJix",
        "outputId": "a665783f-58ce-4843-c79f-dc50dc53672f"
      },
      "execution_count": null,
      "outputs": [
        {
          "output_type": "stream",
          "name": "stdout",
          "text": [
            "Hellow,World!\n",
            "Hellow,Python\n"
          ]
        }
      ]
    },
    {
      "cell_type": "code",
      "source": [
        "num=3+5\n",
        "print(num)"
      ],
      "metadata": {
        "colab": {
          "base_uri": "https://localhost:8080/"
        },
        "id": "nn5o-JDSpXYE",
        "outputId": "f73d4269-0bcc-404c-de81-61dd7b9fcbc7"
      },
      "execution_count": null,
      "outputs": [
        {
          "output_type": "stream",
          "name": "stdout",
          "text": [
            "8\n"
          ]
        }
      ]
    },
    {
      "cell_type": "code",
      "source": [
        "print(250+100+400)\n",
        "print(-30-40)\n",
        "print(50*9)\n",
        "print(50//3)\n",
        "print(50%3)\n",
        "print(-3//2)"
      ],
      "metadata": {
        "colab": {
          "base_uri": "https://localhost:8080/"
        },
        "id": "OUY7TcqBnFSD",
        "outputId": "aa3cdd49-5df0-420f-d1ce-fc05033e16c7"
      },
      "execution_count": null,
      "outputs": [
        {
          "output_type": "stream",
          "name": "stdout",
          "text": [
            "750\n",
            "-70\n",
            "450\n",
            "16\n",
            "2\n",
            "-2\n"
          ]
        }
      ]
    },
    {
      "cell_type": "code",
      "source": [
        "print(2**3)\n",
        "print(2**0.5)\n",
        "print(type(7*9))\n",
        "print(type(50/4))\n",
        "print(type(50/2))\n",
        "print(2.)\n",
        "print(type(float(2)))\n",
        "print(float(2))\n",
        "print(int(3.7))\n",
        "print(float(3.7))\n",
        "print(3 + 5*4 - 10/2 + 2**0.5)\n",
        "print((3+5) * 4 - 10/2 + 2**0.5)\n",
        "print(abs(-3))"
      ],
      "metadata": {
        "colab": {
          "base_uri": "https://localhost:8080/"
        },
        "id": "GSV5zFRWnV-U",
        "outputId": "2aafe0e5-d5be-4741-db41-4f6b64df7872"
      },
      "execution_count": null,
      "outputs": [
        {
          "output_type": "stream",
          "name": "stdout",
          "text": [
            "8\n",
            "1.4142135623730951\n",
            "<class 'int'>\n",
            "<class 'float'>\n",
            "<class 'float'>\n",
            "2.0\n",
            "<class 'float'>\n",
            "2.0\n",
            "3\n",
            "3.7\n",
            "19.414213562373096\n",
            "28.414213562373096\n",
            "3\n"
          ]
        }
      ]
    },
    {
      "cell_type": "markdown",
      "source": [
        "\n",
        "# 2日目2/2 入門2～4\n",
        "- 色コード<font color=\"\"></font>\n",
        "- ＝、-、+の両端はスペース。\n",
        "- 区切りの,は前の語句に連続。\n",
        "- <font color=\"red\">pythonで変数の組み方によって発生しやすいバグを後で確認。</font>\n",
        "- 累積代入文 += -= *= /=\n",
        "- syntax：文法  \n",
        "invalid：無効  \n",
        "callable：可能  \n",
        "型：int float str\n",
        "- {:+}正の値であれば+を代入  \n",
        "{:.1f}小数点1位まで表記\n",
        "\n",
        "- 学生の年齢19  \n",
        "```\n",
        "print(\"学生の年齢{}\".format(student_age))\n",
        "print(\"学生の年齢\", student_age, sep=\"\")\n",
        "print(\"学生の年齢\"+str(student_age))\n",
        "```\n",
        "- print関数のオプション引数objects、sep、end、file、flush\n",
        "- *objects , 区切り可能  \n",
        "sepはprint()内の区切り文字を指定。デフォルト（省略時）は半角スペース  \n",
        "endは末尾のオブジェクトに値を追加。デフォルトは改行    \n",
        "\n",
        "```\n",
        "print(\"a\", \"b\")\n",
        "print(\"a\")\n",
        "print(\"b\")\n",
        "a b  \n",
        "a  \n",
        "b\n",
        "```\n",
        "- {}は文字列の代入 、 [要素0 , 要素1…, 要素-1]はリスト\n",
        "- リストからスライス[起点インデックス:終点<font color=\"red\">+1</font>インデックス]  \n",
        "[起点インデックス:終点+1インデックス:ステップ数]  \n",
        "要素数はlen()、追加メソッド.append()は1要素ずつ。代入はしない、appendメソッドはNoneを返しているから。\n",
        "```\n",
        "numbers[0, 1, 2, 3]\n",
        "numbers.append(4)\n",
        "print(numbers)\n",
        "```\n",
        "他のメソッドは代入することもある。\n",
        "- メソッドや関数でNONEを返すなど元のリストが変更になるかどうかは確認してから使用したほうがよさそう。\n",
        "\n",
        "- リスト[ , ]、タプル( , )、（\"文字列\"）はシーケンス型。  \n",
        "タプルは編集不可  \n",
        "リスト、タプルは同名関数があるため変数には指定しない。\n",
        "\n",
        "\n",
        "\n",
        "\n",
        "\n",
        "\n"
      ],
      "metadata": {
        "id": "ZfxysSwtstw3"
      }
    },
    {
      "cell_type": "code",
      "source": [
        "x = 250 + 100 + 400\n",
        "print(x)\n",
        "print(x*2)\n",
        "y = x/2\n",
        "print(y)\n",
        "s, t = 100, 200\n",
        "print(y + s + t)\n",
        "today_temperature, student_age  = 25, 19\n",
        "print(today_temperature*2, student_age + 2)\n",
        "STANDARD_ATMOSPEERE = 101325\n",
        "x = 1\n",
        "x += 5\n",
        "print(x)\n",
        "x, y = 1, 5\n",
        "x += 2*y\n",
        "print(x)"
      ],
      "metadata": {
        "colab": {
          "base_uri": "https://localhost:8080/"
        },
        "id": "gev0NEHJDNG3",
        "outputId": "4ab7df76-f276-42fe-e183-8df00e6247ce"
      },
      "execution_count": null,
      "outputs": [
        {
          "output_type": "stream",
          "name": "stdout",
          "text": [
            "750\n",
            "1500\n",
            "375.0\n",
            "675.0\n",
            "50 21\n",
            "6\n",
            "11\n"
          ]
        }
      ]
    },
    {
      "cell_type": "code",
      "source": [
        "print(\"text\")\n",
        "print(type(\"text\"))\n",
        "x = \"text\"\n",
        "print(x)\n",
        "print(\"learn python\", \"こんにちは\")\n",
        "student_name = \"Alice\"\n",
        "print(student_name)\n",
        "student_age = 19\n",
        "print(\"私の年齢は\" + str(student_age) + \"です\")\n",
        "student_name = \"Alice\"\n",
        "student_age = 19\n",
        "print(\"私の名前は{}で、{}歳です。\".format(student_name, student_age))\n",
        "student_name = \"Alice\"\n",
        "student_age = 19\n",
        "print(\"私は{1}歳で、名前は{0}です。\".format(student_name, student_age))\n",
        "weather_text = \"今日の天気は{}です。\"\n",
        "weather_text = weather_text.format(\"晴れ\")\n",
        "print(weather_text)\n",
        "tenki = \"晴れ\"\n",
        "weather_text = \"今日の天気は{}です。\".format(tenki)\n",
        "print(weather_text)\n",
        "weather_text = \"今日の天気は{}です。\".format(\"晴れ\")\n",
        "print(weather_text)\n",
        "weather_text = \"今日の{}の天気は{}です。\".format(\"お昼\", \"晴れ\")\n",
        "print(weather_text)\n",
        "today_temperature = 3\n",
        "tomorrow_temperature = -5\n",
        "print(\"今日の最高気温は{:+}、明日の最低気温は{:+}です。\".format(today_temperature, tomorrow_temperature))\n",
        "today_temperature = 3.53\n",
        "tomorrow_temperature = -5.27\n",
        "print(\"今日の最高気温は{:.1f}、明日の最低気温は{:.1f}です。\".format(today_temperature, tomorrow_temperature))\n",
        "today_temperature = 3.53\n",
        "tomorrow_temperature = -5.27\n",
        "print(\"今日の最高気温は{1:+.1f}、明日の最低気温は{0:+.1f}です。\".format(today_temperature, tomorrow_temperature))\n",
        "print(\"python\".capitalize())\n",
        "student_age = 19\n",
        "print(\"学生の年齢\", student_age, sep=\":\")\n"
      ],
      "metadata": {
        "colab": {
          "base_uri": "https://localhost:8080/"
        },
        "id": "nNBv5IhGH7Ms",
        "outputId": "ff395c80-4397-4ce2-947d-48cc2d8998c7",
        "cellView": "code"
      },
      "execution_count": null,
      "outputs": [
        {
          "output_type": "stream",
          "name": "stdout",
          "text": [
            "text\n",
            "<class 'str'>\n",
            "text\n",
            "learn python こんにちは\n",
            "Alice\n",
            "私の年齢は19です\n",
            "私の名前はAliceで、19歳です。\n",
            "私は19歳で、名前はAliceです。\n",
            "今日の天気は晴れです。\n",
            "今日の天気は晴れです。\n",
            "今日の天気は晴れです。\n",
            "今日のお昼の天気は晴れです。\n",
            "今日の最高気温は+3、明日の最低気温は-5です。\n",
            "今日の最高気温は3.5、明日の最低気温は-5.3です。\n",
            "今日の最高気温は-5.3、明日の最低気温は+3.5です。\n",
            "Python\n",
            "学生の年齢:19\n"
          ]
        }
      ]
    },
    {
      "cell_type": "code",
      "source": [
        "monthly_average_temperatures = [6, 7, 9, 15, 20, 22, 27, 26, 23, 17, 12, 7]\n",
        "print(monthly_average_temperatures)\n",
        "print(type(monthly_average_temperatures))\n",
        "monthly_average_temperatures = [6, 7, 9, 15, 20, 22, 27, 26, 23, 17, 12, 7]\n",
        "print(\"各月の平均気温は、1月は{}度、12月は{}度です。\".format(monthly_average_temperatures[0], monthly_average_temperatures[-1]))\n",
        "monthly_average_temperatures = [6, 7, 9, 15, 20, 22, 27, 26, 23, 17, 12, 7]\n",
        "monthly_average_temperatures[5] = 24\n",
        "print(monthly_average_temperatures[5])\n",
        "print(monthly_average_temperatures[3:8])\n",
        "print(monthly_average_temperatures[0:7:2])\n",
        "print(monthly_average_temperatures[::5])\n",
        "print(len(monthly_average_temperatures))\n",
        "months = [\"January\", \"February\", \"March\", \"April\", \"May\", \"June\", \"July\", \"August\", \"September\", \"October\", \"November\", \"December\"]\n",
        "odd_and_even = [[0, 2, 4, 6, 8], [1, 3, 5, 7, 9]]\n",
        "mixed = [-5.5, \"Python\", 270, [\"a\", \"b\", \"c\"]]\n",
        "print(months[0:2], odd_and_even[0], mixed[0:2])\n",
        "texts = []\n",
        "texts.append(\"alpha\")\n",
        "texts.append(\"beta\")\n",
        "print(texts)\n",
        "numbers = [0, 1, 2, 3]\n",
        "numbers.append(4)\n",
        "print(numbers)\n",
        "text = \"python\"\n",
        "print(text.capitalize())\n",
        "capitalized_text = text.capitalize()\n",
        "print(capitalized_text)\n",
        "odd_numbers = [1, 3, 5]\n",
        "even_numbers = [2, 4, 6]\n",
        "print(odd_numbers + even_numbers)\n",
        "odd_and_even_numbers = sorted(odd_numbers + even_numbers)\n",
        "print(odd_and_even_numbers)\n",
        "print(odd_numbers)\n",
        "user_ids = (\"A081\", \"A114\", \"A186\")\n",
        "print(user_ids)\n",
        "print(type(user_ids))\n",
        "user_ids1, user_ids2, user_ids3 = user_ids\n",
        "print(user_ids1)\n",
        "empty_tuple = ()\n",
        "print(empty_tuple)\n",
        "print(list(user_ids))"
      ],
      "metadata": {
        "id": "6zELfWeiOOnT",
        "colab": {
          "base_uri": "https://localhost:8080/"
        },
        "outputId": "c466f117-afab-4454-a3a3-59e5439fcb83"
      },
      "execution_count": null,
      "outputs": [
        {
          "output_type": "stream",
          "name": "stdout",
          "text": [
            "[6, 7, 9, 15, 20, 22, 27, 26, 23, 17, 12, 7]\n",
            "<class 'list'>\n",
            "各月の平均気温は、1月は6度、12月は7度です。\n",
            "24\n",
            "[15, 20, 24, 27, 26]\n",
            "[6, 9, 20, 27]\n",
            "[6, 24, 12]\n",
            "12\n",
            "['January', 'February'] [0, 2, 4, 6, 8] [-5.5, 'Python']\n",
            "['alpha', 'beta']\n",
            "[0, 1, 2, 3, 4]\n",
            "Python\n",
            "Python\n",
            "[1, 3, 5, 2, 4, 6]\n",
            "[1, 2, 3, 4, 5, 6]\n",
            "[1, 3, 5]\n",
            "('A081', 'A114', 'A186')\n",
            "<class 'tuple'>\n",
            "A081\n",
            "()\n",
            "['A081', 'A114', 'A186']\n"
          ]
        }
      ]
    },
    {
      "cell_type": "markdown",
      "source": [
        "# 3日目 2/3 入門5～"
      ],
      "metadata": {
        "id": "6my-_krD1eGZ"
      }
    }
  ]
}