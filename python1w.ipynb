{
  "nbformat": 4,
  "nbformat_minor": 0,
  "metadata": {
    "colab": {
      "name": "python1w",
      "provenance": [],
      "authorship_tag": "ABX9TyOlkP9JdeGQYZg5Ojs1cp0t",
      "include_colab_link": true
    },
    "kernelspec": {
      "name": "python3",
      "display_name": "Python 3"
    },
    "language_info": {
      "name": "python"
    }
  },
  "cells": [
    {
      "cell_type": "markdown",
      "metadata": {
        "id": "view-in-github",
        "colab_type": "text"
      },
      "source": [
        "<a href=\"https://colab.research.google.com/github/haruya0605037/sample2/blob/main/python1w.ipynb\" target=\"_parent\"><img src=\"https://colab.research.google.com/assets/colab-badge.svg\" alt=\"Open In Colab\"/></a>"
      ]
    },
    {
      "cell_type": "markdown",
      "source": [
        "# 1日目 2/1 導入～入門1\n",
        "# 見出し1\n",
        "\n",
        "Markdown記法で見やすく文章を書くことができます。\n",
        "\n",
        "## 見出し2\n",
        "\n",
        "**強調**\n",
        "\n",
        "数式を書くこともできます。\n",
        "\n",
        "$$\n",
        "y=2x+1\n",
        "$$\n",
        "\n",
        "Pythonコードを書くときはコードブロックを使います。\n",
        "\n",
        "```python\n",
        "print(\"Hellow,World\")\n",
        "```\n",
        "\n",
        "- 箇条書\n",
        "- 箇条書\n",
        "  - 箇条書\n",
        "\n",
        "\n",
        "> 引用文\n",
        " \n"
      ],
      "metadata": {
        "id": "MBnY2eH7a4bg"
      }
    },
    {
      "cell_type": "code",
      "source": [
        "print(\"Hellow,World!\")\n",
        "print(\"Hellow,Python\")"
      ],
      "metadata": {
        "colab": {
          "base_uri": "https://localhost:8080/"
        },
        "id": "F13kuPKGaJix",
        "outputId": "a665783f-58ce-4843-c79f-dc50dc53672f"
      },
      "execution_count": null,
      "outputs": [
        {
          "output_type": "stream",
          "name": "stdout",
          "text": [
            "Hellow,World!\n",
            "Hellow,Python\n"
          ]
        }
      ]
    },
    {
      "cell_type": "code",
      "source": [
        "num=3+5\n",
        "print(num)"
      ],
      "metadata": {
        "colab": {
          "base_uri": "https://localhost:8080/"
        },
        "id": "nn5o-JDSpXYE",
        "outputId": "f73d4269-0bcc-404c-de81-61dd7b9fcbc7"
      },
      "execution_count": null,
      "outputs": [
        {
          "output_type": "stream",
          "name": "stdout",
          "text": [
            "8\n"
          ]
        }
      ]
    },
    {
      "cell_type": "code",
      "source": [
        "print(250+100+400)\n",
        "print(-30-40)\n",
        "print(50*9)\n",
        "print(50//3)\n",
        "print(50%3)\n",
        "print(-3//2)"
      ],
      "metadata": {
        "colab": {
          "base_uri": "https://localhost:8080/"
        },
        "id": "OUY7TcqBnFSD",
        "outputId": "aa3cdd49-5df0-420f-d1ce-fc05033e16c7"
      },
      "execution_count": null,
      "outputs": [
        {
          "output_type": "stream",
          "name": "stdout",
          "text": [
            "750\n",
            "-70\n",
            "450\n",
            "16\n",
            "2\n",
            "-2\n"
          ]
        }
      ]
    },
    {
      "cell_type": "code",
      "source": [
        "print(2**3)\n",
        "print(2**0.5)\n",
        "print(type(7*9))\n",
        "print(type(50/4))\n",
        "print(type(50/2))\n",
        "print(2.)\n",
        "print(type(float(2)))\n",
        "print(float(2))\n",
        "print(int(3.7))\n",
        "print(float(3.7))\n",
        "print(3 + 5*4 - 10/2 + 2**0.5)\n",
        "print((3+5) * 4 - 10/2 + 2**0.5)\n",
        "print(abs(-3))"
      ],
      "metadata": {
        "colab": {
          "base_uri": "https://localhost:8080/"
        },
        "id": "GSV5zFRWnV-U",
        "outputId": "2aafe0e5-d5be-4741-db41-4f6b64df7872"
      },
      "execution_count": null,
      "outputs": [
        {
          "output_type": "stream",
          "name": "stdout",
          "text": [
            "8\n",
            "1.4142135623730951\n",
            "<class 'int'>\n",
            "<class 'float'>\n",
            "<class 'float'>\n",
            "2.0\n",
            "<class 'float'>\n",
            "2.0\n",
            "3\n",
            "3.7\n",
            "19.414213562373096\n",
            "28.414213562373096\n",
            "3\n"
          ]
        }
      ]
    },
    {
      "cell_type": "markdown",
      "source": [
        "\n",
        "# 2日目 2/2 入門2～4\n",
        "- 色コード<font color=\"\"></font>\n",
        "- ＝、-、+の両端はスペース。\n",
        "- 区切りの,は前の語句に連続。\n",
        "- <font color=\"red\">pythonで変数の組み方によって発生しやすいバグを後で確認。</font>\n",
        "- 累積代入文 += -= *= /=\n",
        "- syntax：文法  \n",
        "invalid：無効  \n",
        "callable：可能  \n",
        "型：int float str\n",
        "- {:+}正の値であれば+を代入  \n",
        "{:.1f}小数点1位まで表記\n",
        "\n",
        "- 学生の年齢19  \n",
        "```\n",
        "print(\"学生の年齢{}\".format(student_age))\n",
        "print(\"学生の年齢\", student_age, sep=\"\")\n",
        "print(\"学生の年齢\"+str(student_age))\n",
        "```\n",
        "- print関数のオプション引数objects、sep、end、file、flush\n",
        "- *objects , 区切り可能  \n",
        ", sep(\"\")はprint()内の区切り文字を指定。デフォルト（省略時）は半角スペース  \n",
        ", end(\"\")は末尾のオブジェクトに値を追加。デフォルトは改行    \n",
        "\n",
        "```\n",
        "print(\"a\", \"b\")\n",
        "print(\"a\")\n",
        "print(\"b\")\n",
        "a b  \n",
        "a  \n",
        "b\n",
        "```\n",
        "- {}は文字列の代入 、 [要素0 , 要素1…, 要素-1]はリスト\n",
        "- リストからスライス[起点インデックス:終点<font color=\"red\">+1</font>インデックス]  \n",
        "[起点インデックス:終点+1インデックス:ステップ数]  \n",
        "要素数はlen()、追加メソッド.append()は1要素ずつ。代入はしない、appendメソッドはNoneを返しているから。\n",
        "```\n",
        "numbers[0, 1, 2, 3]\n",
        "numbers.append(4)\n",
        "print(numbers)\n",
        "```\n",
        "他のメソッドは代入することもある。\n",
        "- メソッドや関数でNONEを返すなど元のリストが変更になるかどうかは確認してから使用したほうがよさそう。\n",
        "\n",
        "- リスト[ , ]、タプル( , )、（\"文字列\"）はシーケンス型。  \n",
        "タプルは編集不可  \n",
        "リスト、タプルは同名関数があるため変数には指定しない。\n",
        "\n",
        "\n",
        "\n",
        "\n",
        "\n",
        "\n"
      ],
      "metadata": {
        "id": "ZfxysSwtstw3"
      }
    },
    {
      "cell_type": "code",
      "source": [
        "# 入門2\n",
        "x = 250 + 100 + 400\n",
        "print(x)\n",
        "print(x*2)\n",
        "y = x/2\n",
        "print(y)\n",
        "s, t = 100, 200\n",
        "print(y + s + t)\n",
        "today_temperature, student_age  = 25, 19\n",
        "print(today_temperature*2, student_age + 2)\n",
        "STANDARD_ATMOSPEERE = 101325\n",
        "x = 1\n",
        "x += 5\n",
        "print(x)\n",
        "x, y = 1, 5\n",
        "x += 2*y\n",
        "print(x)"
      ],
      "metadata": {
        "colab": {
          "base_uri": "https://localhost:8080/"
        },
        "id": "gev0NEHJDNG3",
        "outputId": "4ab7df76-f276-42fe-e183-8df00e6247ce"
      },
      "execution_count": null,
      "outputs": [
        {
          "output_type": "stream",
          "name": "stdout",
          "text": [
            "750\n",
            "1500\n",
            "375.0\n",
            "675.0\n",
            "50 21\n",
            "6\n",
            "11\n"
          ]
        }
      ]
    },
    {
      "cell_type": "code",
      "source": [
        "# 入門3\n",
        "print(\"text\")\n",
        "print(type(\"text\"))\n",
        "x = \"text\"\n",
        "print(x)\n",
        "print(\"learn python\", \"こんにちは\")\n",
        "student_name = \"Alice\"\n",
        "print(student_name)\n",
        "student_age = 19\n",
        "print(\"私の年齢は\" + str(student_age) + \"です\")\n",
        "student_name = \"Alice\"\n",
        "student_age = 19\n",
        "print(\"私の名前は{}で、{}歳です。\".format(student_name, student_age))\n",
        "student_name = \"Alice\"\n",
        "student_age = 19\n",
        "print(\"私は{1}歳で、名前は{0}です。\".format(student_name, student_age))\n",
        "weather_text = \"今日の天気は{}です。\"\n",
        "weather_text = weather_text.format(\"晴れ\")\n",
        "print(weather_text)\n",
        "tenki = \"晴れ\"\n",
        "weather_text = \"今日の天気は{}です。\".format(tenki)\n",
        "print(weather_text)\n",
        "weather_text = \"今日の天気は{}です。\".format(\"晴れ\")\n",
        "print(weather_text)\n",
        "weather_text = \"今日の{}の天気は{}です。\".format(\"お昼\", \"晴れ\")\n",
        "print(weather_text)\n",
        "today_temperature = 3\n",
        "tomorrow_temperature = -5\n",
        "print(\"今日の最高気温は{:+}、明日の最低気温は{:+}です。\".format(today_temperature, tomorrow_temperature))\n",
        "today_temperature = 3.53\n",
        "tomorrow_temperature = -5.27\n",
        "print(\"今日の最高気温は{:.1f}、明日の最低気温は{:.1f}です。\".format(today_temperature, tomorrow_temperature))\n",
        "today_temperature = 3.53\n",
        "tomorrow_temperature = -5.27\n",
        "print(\"今日の最高気温は{1:+.1f}、明日の最低気温は{0:+.1f}です。\".format(today_temperature, tomorrow_temperature))\n",
        "print(\"python\".capitalize())\n",
        "student_age = 19\n",
        "print(\"学生の年齢\", student_age, sep=\":\")"
      ],
      "metadata": {
        "colab": {
          "base_uri": "https://localhost:8080/"
        },
        "id": "nNBv5IhGH7Ms",
        "outputId": "ff395c80-4397-4ce2-947d-48cc2d8998c7",
        "cellView": "code"
      },
      "execution_count": null,
      "outputs": [
        {
          "output_type": "stream",
          "name": "stdout",
          "text": [
            "text\n",
            "<class 'str'>\n",
            "text\n",
            "learn python こんにちは\n",
            "Alice\n",
            "私の年齢は19です\n",
            "私の名前はAliceで、19歳です。\n",
            "私は19歳で、名前はAliceです。\n",
            "今日の天気は晴れです。\n",
            "今日の天気は晴れです。\n",
            "今日の天気は晴れです。\n",
            "今日のお昼の天気は晴れです。\n",
            "今日の最高気温は+3、明日の最低気温は-5です。\n",
            "今日の最高気温は3.5、明日の最低気温は-5.3です。\n",
            "今日の最高気温は-5.3、明日の最低気温は+3.5です。\n",
            "Python\n",
            "学生の年齢:19\n"
          ]
        }
      ]
    },
    {
      "cell_type": "code",
      "source": [
        "# 入門4\n",
        "monthly_average_temperatures = [6, 7, 9, 15, 20, 22, 27, 26, 23, 17, 12, 7]\n",
        "print(monthly_average_temperatures)\n",
        "print(type(monthly_average_temperatures))\n",
        "monthly_average_temperatures = [6, 7, 9, 15, 20, 22, 27, 26, 23, 17, 12, 7]\n",
        "print(\"各月の平均気温は、1月は{}度、12月は{}度です。\".format(monthly_average_temperatures[0], monthly_average_temperatures[-1]))\n",
        "monthly_average_temperatures = [6, 7, 9, 15, 20, 22, 27, 26, 23, 17, 12, 7]\n",
        "monthly_average_temperatures[5] = 24\n",
        "print(monthly_average_temperatures[5])\n",
        "print(monthly_average_temperatures[3:8])\n",
        "print(monthly_average_temperatures[0:7:2])\n",
        "print(monthly_average_temperatures[::5])\n",
        "print(len(monthly_average_temperatures))\n",
        "months = [\"January\", \"February\", \"March\", \"April\", \"May\", \"June\", \"July\", \"August\", \"September\", \"October\", \"November\", \"December\"]\n",
        "odd_and_even = [[0, 2, 4, 6, 8], [1, 3, 5, 7, 9]]\n",
        "mixed = [-5.5, \"Python\", 270, [\"a\", \"b\", \"c\"]]\n",
        "print(months[0:2], odd_and_even[0], mixed[0:2])\n",
        "texts = []\n",
        "texts.append(\"alpha\")\n",
        "texts.append(\"beta\")\n",
        "print(texts)\n",
        "numbers = [0, 1, 2, 3]\n",
        "numbers.append(4)\n",
        "print(numbers)\n",
        "text = \"python\"\n",
        "print(text.capitalize())\n",
        "capitalized_text = text.capitalize()\n",
        "print(capitalized_text)\n",
        "odd_numbers = [1, 3, 5]\n",
        "even_numbers = [2, 4, 6]\n",
        "print(odd_numbers + even_numbers)\n",
        "odd_and_even_numbers = sorted(odd_numbers + even_numbers)\n",
        "print(odd_and_even_numbers)\n",
        "print(odd_numbers)\n",
        "user_ids = (\"A081\", \"A114\", \"A186\")\n",
        "print(user_ids)\n",
        "print(type(user_ids))\n",
        "user_ids1, user_ids2, user_ids3 = user_ids\n",
        "print(user_ids1)\n",
        "empty_tuple = ()\n",
        "print(empty_tuple)\n",
        "print(list(user_ids))"
      ],
      "metadata": {
        "id": "6zELfWeiOOnT",
        "colab": {
          "base_uri": "https://localhost:8080/"
        },
        "outputId": "c466f117-afab-4454-a3a3-59e5439fcb83"
      },
      "execution_count": null,
      "outputs": [
        {
          "output_type": "stream",
          "name": "stdout",
          "text": [
            "[6, 7, 9, 15, 20, 22, 27, 26, 23, 17, 12, 7]\n",
            "<class 'list'>\n",
            "各月の平均気温は、1月は6度、12月は7度です。\n",
            "24\n",
            "[15, 20, 24, 27, 26]\n",
            "[6, 9, 20, 27]\n",
            "[6, 24, 12]\n",
            "12\n",
            "['January', 'February'] [0, 2, 4, 6, 8] [-5.5, 'Python']\n",
            "['alpha', 'beta']\n",
            "[0, 1, 2, 3, 4]\n",
            "Python\n",
            "Python\n",
            "[1, 3, 5, 2, 4, 6]\n",
            "[1, 2, 3, 4, 5, 6]\n",
            "[1, 3, 5]\n",
            "('A081', 'A114', 'A186')\n",
            "<class 'tuple'>\n",
            "A081\n",
            "()\n",
            "['A081', 'A114', 'A186']\n"
          ]
        }
      ]
    },
    {
      "cell_type": "markdown",
      "source": [
        "# 3日目 2/3 入門5～7\n",
        "- ifの後にスペース、文直後に:  \n",
        "ifでない場合、省略もしくはelse、連続する場合はelif。\n",
        "- 比較演算子の左右はスペース\n",
        "- 条件式はブール型（'True' or 'False'）でありブール演算子（'and' 'or' 'not' ）がある。\n",
        "- インデントは半角スペース4個でtabキーは使用しない。  \n",
        "ただし、colabでは標準2個でtabキーで2個追加できる。\n",
        "- 変数を大文字表記にすると定数として扱える。  \n",
        "もし成人年齢の定義が20歳から18歳に変更になった時に、最初の1行だけの修正で対応できる。複数箇所を検索機能や置換機能を使い修正しようとすると、別の意味でも20が使われている場合に面倒なことになる  \n",
        "```\n",
        "ADULT_AGE = 20\n",
        "student_age = 19\n",
        "if student_age < ADULT_AGE:\n",
        "    print(\"{}歳未満です。\".format(ADULT_AGE))\n",
        "```\n",
        "- 数値と文字列の違い。\n",
        "- 制御構文：条件分岐（if）や繰り返し（for、while）\n",
        "- for文：イテラブルオブジェクト(要素を繰り返し取り出せるオブジェクト。例えばシーケンス型の変数（リスト、タプル、文字列））\n",
        "```\n",
        "for x in range(5):\n",
        "    print(x, end=(' '))\n",
        "print()\n",
        "```\n",
        "<font color=\"red\">, end=(' ')で改行を消したら、次にprint()で改行を作り、次のコードへ。</font>\n",
        "- 繰り返しのカウントにはiが使われることが多い。\n",
        "- 関数メモrange()、len()、list()、enumerate()、input()、zip()、reversed()、str()\n",
        "- if文、for文、while文、break文\n",
        "- 関数化はdef  \n",
        "仮引数、実引数、キーワード引数、位置引数  \n",
        "defで宣言後、returnしないと次の関数に反映されない。  \n",
        "関数名(実引数, 実引数)を次の関数に渡す。戻り値、仮引数は渡さなくていい。\n",
        "```\n",
        "def sample_function(x, y):\n",
        "    answer = (x+y) * 2\n",
        "    return answer\n",
        "print(sample_function(3, 5))\n",
        "```\n"
      ],
      "metadata": {
        "id": "6my-_krD1eGZ"
      }
    },
    {
      "cell_type": "code",
      "source": [
        "# 入門5\n",
        "student_name = \"Alice\"\n",
        "student_age = 22\n",
        "if student_age < 20:\n",
        "  print(\"{}は20歳未満です。\".format(student_name))\n",
        "else:\n",
        "  print(\"{}は20歳以上です。\".format(student_name))\n",
        "if student_age < 20:\n",
        "  print(\"{}は20歳未満です。\".format(student_name))\n",
        "elif student_age == 21:\n",
        "  print(\"{}は21歳です。\".format(student_name))\n",
        "elif student_age == 22:\n",
        "  print(\"{}は22歳です。\".format(student_name))\n",
        "else:\n",
        "  print(\"{}は23歳以上です。\".format(student_name))\n",
        "\n",
        "print(19 < 20)\n",
        "print(type(10<20))\n",
        "if True:\n",
        "  print(\"Hello\")\n",
        "\n",
        "if (student_age >= 10) and (student_name):\n",
        "  print(\"{}は10代です。\".format(student_name))\n",
        "\n",
        "no_judgement = False\n",
        "student_name = \"Alice\"\n",
        "student_age = 21\n",
        "if not(no_judgement):\n",
        "  if student_age < 20:\n",
        "    print(\"{}は20歳未満です。\".format(student_name))\n",
        "  else:\n",
        "    print(\"{}は20歳以上です。\".format(student_name))\n",
        "else:\n",
        "  print(\"年齢の判定はしません。\")"
      ],
      "metadata": {
        "colab": {
          "base_uri": "https://localhost:8080/"
        },
        "id": "O8KFOzWFbSc5",
        "outputId": "9ec119cd-2e6e-4d17-a6ae-d6c19816121e"
      },
      "execution_count": null,
      "outputs": [
        {
          "output_type": "stream",
          "name": "stdout",
          "text": [
            "Aliceは20歳以上です。\n",
            "Aliceは22歳です。\n",
            "True\n",
            "<class 'bool'>\n",
            "Hello\n",
            "Aliceは10代です。\n",
            "Aliceは20歳以上です。\n"
          ]
        }
      ]
    },
    {
      "cell_type": "code",
      "source": [
        "# 条件式練習 失敗=変数を数値にするとエラーになる。数値の場合、0を消して1のみにしなければならない。\n",
        "test_pass = 0001\n",
        "if test_pass == 0000:\n",
        "  print(\"認証ができました。\")\n",
        "else:\n",
        "  print(\"認証ができませんでした。\")"
      ],
      "metadata": {
        "colab": {
          "base_uri": "https://localhost:8080/",
          "height": 137
        },
        "id": "VYxXBH3MefuC",
        "outputId": "76074558-6ba7-461d-9860-bcdb19a346f0"
      },
      "execution_count": null,
      "outputs": [
        {
          "output_type": "error",
          "ename": "SyntaxError",
          "evalue": "ignored",
          "traceback": [
            "\u001b[0;36m  File \u001b[0;32m\"<ipython-input-69-56d11d686aba>\"\u001b[0;36m, line \u001b[0;32m2\u001b[0m\n\u001b[0;31m    test_pass = 0001\u001b[0m\n\u001b[0m                   ^\u001b[0m\n\u001b[0;31mSyntaxError\u001b[0m\u001b[0;31m:\u001b[0m invalid token\n"
          ]
        }
      ]
    },
    {
      "cell_type": "code",
      "source": [
        "# 条件式練習 成功1=文字列にしたらできた。\n",
        "test_pass = \"0001\"\n",
        "if test_pass == \"0000\":\n",
        "  print(\"認証ができました。\")\n",
        "else:\n",
        "  print(\"認証ができませんでした。\")"
      ],
      "metadata": {
        "colab": {
          "base_uri": "https://localhost:8080/"
        },
        "id": "Iu9JBCtKyLGX",
        "outputId": "4054e43a-dd39-42ef-8728-d809e838b0a0"
      },
      "execution_count": null,
      "outputs": [
        {
          "output_type": "stream",
          "name": "stdout",
          "text": [
            "認証ができませんでした。\n"
          ]
        }
      ]
    },
    {
      "cell_type": "code",
      "source": [
        "# 条件式練習 成功2=input()を使う\n",
        "test_pass = input(\"Test_pass:\")\n",
        "if test_pass == \"0000\":\n",
        "  print(\"認証ができました。\")\n",
        "else:\n",
        "  print(\"認証ができませんでした。\")"
      ],
      "metadata": {
        "colab": {
          "base_uri": "https://localhost:8080/"
        },
        "id": "ddRnPx2kpJ8v",
        "outputId": "b89dcab6-dc56-41eb-d28d-789584f32bf0"
      },
      "execution_count": null,
      "outputs": [
        {
          "output_type": "stream",
          "name": "stdout",
          "text": [
            "Test_pass:0001\n",
            "認証ができませんでした。\n"
          ]
        }
      ]
    },
    {
      "cell_type": "code",
      "source": [
        "# 入門6\n",
        "numbers = [0, 1, 2, 3, 4,]\n",
        "for number in numbers:\n",
        "  print(number)\n",
        "\n",
        "user_ids = (\"A081\", \"A114\", \"A186\")\n",
        "for user_id in user_ids:\n",
        "  print(user_id)\n",
        "\n",
        "text = \"Python\"\n",
        "for character in text:\n",
        "  print(character)\n",
        "\n",
        "for i in range(5):\n",
        "  print(i)\n",
        "for x in range(5):\n",
        "  print(x, end=(' '))\n",
        "print()\n",
        "\n",
        "print(range(5))\n",
        "print(list(range(5)))\n",
        "\n",
        "for i in range(5, 10, 2):\n",
        "  print(i)\n",
        "\n",
        "for i in range(9, -1, -1):\n",
        "  print(i, end=(\" \"))\n",
        "print()\n",
        "for i in reversed(range(10)):\n",
        "  print(i, end=(\" \"))\n",
        "print()\n",
        "\n",
        "monthly_average_temperatures = [6, 7, 9, 15, 20, 22]\n",
        "for i in range(len(monthly_average_temperatures)):\n",
        "  print(\"{}月の平均気温は{}度です。\".format(i+1, monthly_average_temperatures[i]))\n",
        "for i, temperature in enumerate(monthly_average_temperatures):\n",
        "  print(\"{}月の平均気温は{}度です。\".format(i+1, temperature))\n",
        "\n",
        "# range(-1, 0)でリスト[0, +1]だからrange(1, 13)になる。\n",
        "MONTH_NUMBERS = list(range(1, 13))\n",
        "monthly_average_temperatures = [6, 7, 9, 15, 20, 22]\n",
        "for month_number, temperature in zip(MONTH_NUMBERS, monthly_average_temperatures):\n",
        "  print(\"{}月の平均気温は{}度です。\".format(month_number, temperature))\n",
        "\n",
        "num = 0\n",
        "while num < 10:\n",
        "  print(num, end=(\" \"))\n",
        "  num += 3\n",
        "print()\n",
        "\n",
        "num = 0\n",
        "while True:\n",
        "  print(num, end=(\" \"))\n",
        "  num += 3\n",
        "  if num >= 10:\n",
        "    break\n",
        "print()"
      ],
      "metadata": {
        "colab": {
          "base_uri": "https://localhost:8080/"
        },
        "id": "fxHztEu0SQhT",
        "outputId": "3e87000e-7aea-4d81-9a43-7a7d12e591e9"
      },
      "execution_count": null,
      "outputs": [
        {
          "output_type": "stream",
          "name": "stdout",
          "text": [
            "0\n",
            "1\n",
            "2\n",
            "3\n",
            "4\n",
            "A081\n",
            "A114\n",
            "A186\n",
            "P\n",
            "y\n",
            "t\n",
            "h\n",
            "o\n",
            "n\n",
            "0\n",
            "1\n",
            "2\n",
            "3\n",
            "4\n",
            "0 1 2 3 4 \n",
            "range(0, 5)\n",
            "[0, 1, 2, 3, 4]\n",
            "5\n",
            "7\n",
            "9\n",
            "9 8 7 6 5 4 3 2 1 0 \n",
            "9 8 7 6 5 4 3 2 1 0 \n",
            "1月の平均気温は6度です。\n",
            "2月の平均気温は7度です。\n",
            "3月の平均気温は9度です。\n",
            "4月の平均気温は15度です。\n",
            "5月の平均気温は20度です。\n",
            "6月の平均気温は22度です。\n",
            "1月の平均気温は6度です。\n",
            "2月の平均気温は7度です。\n",
            "3月の平均気温は9度です。\n",
            "4月の平均気温は15度です。\n",
            "5月の平均気温は20度です。\n",
            "6月の平均気温は22度です。\n",
            "1月の平均気温は6度です。\n",
            "2月の平均気温は7度です。\n",
            "3月の平均気温は9度です。\n",
            "4月の平均気温は15度です。\n",
            "5月の平均気温は20度です。\n",
            "6月の平均気温は22度です。\n",
            "0 3 6 9 \n",
            "0 3 6 9 \n"
          ]
        }
      ]
    },
    {
      "cell_type": "code",
      "source": [
        "# 入門7\n",
        "def print_hello_world():\n",
        "  print(\"Hello, World!\")\n",
        "\n",
        "print_hello_world()\n",
        "\n",
        "def print_hello_something(something):\n",
        "  print(\"Hello, {}!\".format(something))\n",
        "\n",
        "print_hello_something(\"Python\")\n",
        "\n",
        "def print_hello_something(something, end):\n",
        "  print(\"Hello, {}{}\".format(something, end))\n",
        "\n",
        "print_hello_something(\"Python\", \"?\")\n",
        "\n",
        "def print_hello_something(something, end = \"!\"):\n",
        "  print(\"Hello, {}{}\".format(something, end))\n",
        "\n",
        "print_hello_something(\"Python\")\n",
        "print_hello_something(\"Python\", \"?\")\n",
        "\n",
        "def hello_something(something, end = \"!\"):\n",
        "  return\"Hello, {}{}\".format(something, end)\n",
        "\n",
        "print(hello_something(\"Python\", end = \"!!\"))\n",
        "\n",
        "def sample_function(x, y):\n",
        "  answer = (x+y) * 2\n",
        "  return answer\n",
        "\n",
        "print(sample_function(3, 5))\n",
        "print(sample_function(10, 3))\n",
        "print(sample_function(-20, -10))\n",
        "\n",
        "def sample_function2(x, y):\n",
        "  answer1 = (x+y) * 2\n",
        "  answer2 = answer1 + 10\n",
        "  return answer1, answer2\n",
        "\n",
        "answer1, answer2 = sample_function2(3, 5)\n",
        "print(answer1)\n",
        "print(answer2)\n",
        "\n",
        "# ↑戻り値が複数の場合、渡す関数に 戻り値＝定義関数 を宣言してから使用する。\n",
        "\n",
        "def sample_function2(x, y):\n",
        "  answer1 = (x+y) * 2\n",
        "  answer2 = answer1 + 10\n",
        "  return answer1, answer2\n",
        "\n",
        "print(sample_function2(3, 5))\n",
        "\n",
        "ADULT_AGE = 20\n",
        "student_name = \"Alice\"\n",
        "student_age = 22\n",
        "def text_adult_age1(personal_age, adult_age = 20):\n",
        "  \"\"\"\n",
        "  元コード\n",
        "  if student_age < ADULT_AGE:\n",
        "    print(\"{}は{}歳未満です。\".format(student_name, ADULT_AGE))\n",
        "  else:\n",
        "    print(\"{}は{}歳以上です。\".format(student_name, ADULT_AGE))\n",
        "  \"\"\"\n",
        "  if personal_age > adult_age:\n",
        "    return \"{}歳以上\".format(adult_age)\n",
        "  else:\n",
        "    return \"{}歳未満\".format(adult_age)\n",
        "\n",
        "print(\"{}は{}です。\".format(student_name, text_adult_age1(student_age, adult_age = ADULT_AGE)))\n"
      ],
      "metadata": {
        "colab": {
          "base_uri": "https://localhost:8080/"
        },
        "id": "TCY__JtR3eGN",
        "outputId": "7bc0008b-0cbb-4c1a-f301-b05abd606b17"
      },
      "execution_count": null,
      "outputs": [
        {
          "output_type": "stream",
          "name": "stdout",
          "text": [
            "Hello, World!\n",
            "Hello, Python!\n",
            "Hello, Python?\n",
            "Hello, Python!\n",
            "Hello, Python?\n",
            "Hello, Python!!\n",
            "16\n",
            "26\n",
            "-60\n",
            "16\n",
            "26\n",
            "(16, 26)\n",
            "Aliceは20歳以上です。\n"
          ]
        }
      ]
    },
    {
      "cell_type": "code",
      "source": [
        "# 疑問メモ\n",
        "ADULT_AGE = 50 #1 20を変更\n",
        "student_name = \"Alice\"\n",
        "student_age = 19\n",
        "def text_adult_age2(personal_age, adult_age = ADULT_AGE): #2 代入を削除 解説書くなら #adult_age = ADULT_AGE\n",
        "   if personal_age > adult_age:\n",
        "    return \"{}歳以上\".format(adult_age)\n",
        "   else:\n",
        "    return \"{}歳未満\".format(adult_age)\n",
        "\n",
        "print(\"{}は{}です。\".format(student_name, text_adult_age2(student_age))) #3 代入を削除"
      ],
      "metadata": {
        "colab": {
          "base_uri": "https://localhost:8080/"
        },
        "id": "_aXLOZK4Pnyt",
        "outputId": "e959da95-ffc3-4ec9-fa32-def6fe963cc3"
      },
      "execution_count": null,
      "outputs": [
        {
          "output_type": "stream",
          "name": "stdout",
          "text": [
            "Aliceは50歳未満です。\n"
          ]
        }
      ]
    },
    {
      "cell_type": "code",
      "source": [
        "# メモ2 def例\n",
        "def sample_function(x, y):\n",
        "  answer = (x+y) * 2\n",
        "  return \"点数:{}\".format(answer)\n",
        "\n",
        "print(sample_function(3, 5))\n",
        "\n",
        "# 関数化していなければ\n",
        "x = 3\n",
        "y = 5\n",
        "z = (x+y) * 2\n",
        "print(\"点数\", z, sep=(\":\"))"
      ],
      "metadata": {
        "colab": {
          "base_uri": "https://localhost:8080/"
        },
        "id": "Jfxk11KOVLLn",
        "outputId": "9dd93265-c100-4c20-c5d8-40914a38330c"
      },
      "execution_count": null,
      "outputs": [
        {
          "output_type": "stream",
          "name": "stdout",
          "text": [
            "点数:16\n",
            "点数:16\n"
          ]
        }
      ]
    },
    {
      "cell_type": "code",
      "source": [
        "# 明日やるまとめ\n",
        "# 語句\n",
        "# 関数\n",
        "# メソッド\n",
        "# 変数例 繰り返しのカウントにはiなど\n",
        "# 予約語\n",
        "# ○○文"
      ],
      "metadata": {
        "id": "uzZTy_KvXz01"
      },
      "execution_count": null,
      "outputs": []
    },
    {
      "cell_type": "code",
      "source": [
        "TEST = \"???\"\n",
        "def ex1(test = TEST):\n",
        "  return \"意味不明{}\".format(test)\n",
        "\n",
        "print(\"全く\", ex1())"
      ],
      "metadata": {
        "colab": {
          "base_uri": "https://localhost:8080/"
        },
        "id": "KgdYvBxSwlej",
        "outputId": "84ccfaf6-d233-47ad-dd37-7d4cb91db658"
      },
      "execution_count": null,
      "outputs": [
        {
          "output_type": "stream",
          "name": "stdout",
          "text": [
            "全く 意味不明???\n"
          ]
        }
      ]
    },
    {
      "cell_type": "markdown",
      "source": [
        "# 4日目 2/4 入門1～7 復習＆拡充\n",
        "\n",
        "- 関数の基本  \n",
        "関数を実行することを「呼び出す」、関数に渡す値を「引数」、関数が返す値を「戻り値」\n",
        "```\n",
        "print(len('Python'))  # 引数'Python'をlen関数に渡し、\n",
        "6  # 戻り値の 6 をprint関数が呼び出している。\n",
        "print(print())  # 意味のある戻り値を返さない関数は「None」を返す。\n",
        "None  # 内側のprint関数が「None」を返している。（外側のprint関数は呼び出しと同時に改行も実行）\n",
        "```\n",
        "  - 基本的にコメントは処理前に挟むブロックコメントにする。↑はインラインコメント  \n",
        "  -複数行になる場合は都度 # \n",
        "- 演算子  \n",
        "比較演算子：A == B、A != B、他は割愛  \n",
        "ブール演算子：A and B（AとB両方がTrue）、A or B（AまたはBがTrueもしくは両方）、not A（AがFalse）\n",
        "- 値の型：変換する際の関数、記述例  \n",
        "文字列型：str() 、 'abc'  \n",
        "整数型：int()、1234  \n",
        "浮動小数点型：float()、3.14  \n",
        "ブール型：bool()、True、False  \n",
        "日付型：後日まとめ  \n",
        "配列型：list()、['abc',1234,True]、各要素の変更可能。  \n",
        "タプル型：tuple()、('abc',1234,True)、各要素の変更不可。()を省略可能。  \n",
        "辞書型：dict()、{'Key1':'Val1','Key2':'Val2'}、キー値を基に値を参照できる。各要素の変更は可能。  \n",
        " \n"
      ],
      "metadata": {
        "id": "VQEhU-ELCW0v"
      }
    },
    {
      "cell_type": "markdown",
      "source": [
        "# 5日目 2/5 Matplotlib1～3\n",
        "- 非標準ライブラリはまずimport\n",
        "- matplotlibライブラリ(Anacondaは標準)を使用。  \n",
        "```\n",
        "import matplotlib.pyplot as plt\n",
        "```  \n",
        "import ○○ as 名前。  \n",
        "上記例はmatplotlibパッケージのpyplotモジュールをpltという別名で扱う。となる。\n",
        "- MATLABスタイルは用意してそのまま描画？。  \n",
        "オブジェクト指向スタイルはサブプロットに様々なグラフを用意し、任意のものを描画する？。\n",
        "- 描画オブジェクト＝グラフ\n"
      ],
      "metadata": {
        "id": "Iws66Vr-58CF"
      }
    },
    {
      "cell_type": "code",
      "source": [
        "import matplotlib.pyplot as plt\n",
        "\n",
        "x = [1, 2, 3]\n",
        "y = [2, 4, 6]\n",
        "\n",
        "plt.plot(x, y)  # MTLABスタイル pltにplotメソッド\n",
        "plt.show"
      ],
      "metadata": {
        "id": "6yPwZJ05C1DL",
        "colab": {
          "base_uri": "https://localhost:8080/",
          "height": 283
        },
        "outputId": "99a31a96-a115-4d66-dcc0-0c26c697120a"
      },
      "execution_count": null,
      "outputs": [
        {
          "output_type": "execute_result",
          "data": {
            "text/plain": [
              "<function matplotlib.pyplot.show>"
            ]
          },
          "metadata": {},
          "execution_count": 4
        },
        {
          "output_type": "display_data",
          "data": {
            "image/png": "[encoded data removed]",
            "text/plain": [
              "<Figure size 432x288 with 1 Axes>"
            ]
          },
          "metadata": {
            "needs_background": "light"
          }
        }
      ]
    },
    {
      "cell_type": "code",
      "source": [
        "# オブジェクト指向スタイル。figとaxは変数。\n",
        "\n",
        "fig, ax = plt.subplots()  # ax/axes この１文がサブプロット生成の形式\n",
        "ax.plot(x, y)  # サブプロットが一つならax.plot()。数値を反映。\n",
        "plt.show()"
      ],
      "metadata": {
        "colab": {
          "base_uri": "https://localhost:8080/",
          "height": 265
        },
        "id": "p0wzuMLF6HZJ",
        "outputId": "1e7733d1-778b-461f-adfe-502f54a73544"
      },
      "execution_count": null,
      "outputs": [
        {
          "output_type": "display_data",
          "data": {
            "image/png": "[encoded data removed]",
            "text/plain": [
              "<Figure size 432x288 with 1 Axes>"
            ]
          },
          "metadata": {
            "needs_background": "light"
          }
        }
      ]
    },
    {
      "cell_type": "code",
      "source": [
        "x1 = [1, 2, 3]\n",
        "y1 = [2, 4, 6]\n",
        "x2 = [1, 2, 3]\n",
        "y2 = [-2, -4, -6]\n",
        "\n",
        "fig, axes = plt.subplots(2)  # サブプロットが2つリストとして生成。subplotsメソッド\n",
        "axes[0].plot(x1, y1)  # サブプロットが複数なら axes[].plot()\n",
        "axes[1].plot(x2, y2)\n",
        "plt.show()"
      ],
      "metadata": {
        "colab": {
          "base_uri": "https://localhost:8080/",
          "height": 265
        },
        "id": "1YKHJXJe-unc",
        "outputId": "b7c913e6-2726-4cba-b486-0c9ea21539ca"
      },
      "execution_count": null,
      "outputs": [
        {
          "output_type": "display_data",
          "data": {
            "image/png": "[encoded data removed]",
            "text/plain": [
              "<Figure size 432x288 with 2 Axes>"
            ]
          },
          "metadata": {
            "needs_background": "light"
          }
        }
      ]
    },
    {
      "cell_type": "code",
      "source": [
        "# 配列変更1\n",
        "fig, ax = plt.subplots(2, 2)\n",
        "plt.show()\n",
        "\n",
        "fig, ax = plt.subplots(1, 2)"
      ],
      "metadata": {
        "colab": {
          "base_uri": "https://localhost:8080/",
          "height": 521
        },
        "id": "a0QswuGKDgeG",
        "outputId": "9759a308-0bf7-4981-9e70-ad15bce742cc"
      },
      "execution_count": null,
      "outputs": [
        {
          "output_type": "display_data",
          "data": {
            "image/png": "[encoded data removed]",
            "text/plain": [
              "<Figure size 432x288 with 4 Axes>"
            ]
          },
          "metadata": {
            "needs_background": "light"
          }
        },
        {
          "output_type": "display_data",
          "data": {
            "image/png": "[encoded data removed]",
            "text/plain": [
              "<Figure size 432x288 with 2 Axes>"
            ]
          },
          "metadata": {
            "needs_background": "light"
          }
        }
      ]
    },
    {
      "cell_type": "code",
      "source": [
        "# 配列変更2\n",
        "fig, ax = plt.subplots(ncols=2)\n",
        "plt.show()\n",
        "\n",
        "fig, ax = plt.subplots(nrows=2)\n",
        "plt.show()"
      ],
      "metadata": {
        "colab": {
          "base_uri": "https://localhost:8080/",
          "height": 521
        },
        "id": "j65Mr3IgFD1o",
        "outputId": "58e6ae58-b702-4b85-90ee-e67265d6e51f"
      },
      "execution_count": null,
      "outputs": [
        {
          "output_type": "display_data",
          "data": {
            "image/png": "[encoded data removed]",
            "text/plain": [
              "<Figure size 432x288 with 2 Axes>"
            ]
          },
          "metadata": {
            "needs_background": "light"
          }
        },
        {
          "output_type": "display_data",
          "data": {
            "image/png": "[encoded data removed]",
            "text/plain": [
              "<Figure size 432x288 with 2 Axes>"
            ]
          },
          "metadata": {
            "needs_background": "light"
          }
        }
      ]
    },
    {
      "cell_type": "code",
      "source": [
        "import matplotlib.style\n",
        "matplotlib.style.available  # 使用できるスタイルの一覧"
      ],
      "metadata": {
        "colab": {
          "base_uri": "https://localhost:8080/"
        },
        "id": "OFJwGwXlHUP0",
        "outputId": "9ed4b5f0-3aaa-4d47-f9f1-3dca4132d117"
      },
      "execution_count": null,
      "outputs": [
        {
          "output_type": "execute_result",
          "data": {
            "text/plain": [
              "['Solarize_Light2',\n",
              " '_classic_test_patch',\n",
              " 'bmh',\n",
              " 'classic',\n",
              " 'dark_background',\n",
              " 'fast',\n",
              " 'fivethirtyeight',\n",
              " 'ggplot',\n",
              " 'grayscale',\n",
              " 'seaborn',\n",
              " 'seaborn-bright',\n",
              " 'seaborn-colorblind',\n",
              " 'seaborn-dark',\n",
              " 'seaborn-dark-palette',\n",
              " 'seaborn-darkgrid',\n",
              " 'seaborn-deep',\n",
              " 'seaborn-muted',\n",
              " 'seaborn-notebook',\n",
              " 'seaborn-paper',\n",
              " 'seaborn-pastel',\n",
              " 'seaborn-poster',\n",
              " 'seaborn-talk',\n",
              " 'seaborn-ticks',\n",
              " 'seaborn-white',\n",
              " 'seaborn-whitegrid',\n",
              " 'tableau-colorblind10']"
            ]
          },
          "metadata": {},
          "execution_count": 6
        }
      ]
    },
    {
      "cell_type": "code",
      "source": [
        "matplotlib.style.use('seaborn')  # use関数を使ってスタイルを呼び出し。↑のグラフにも適用\n",
        "\n",
        "x = [1, 2, 3]\n",
        "y = [2, 4, 6]\n",
        "\n",
        "fig, ax = plt.subplots()\n",
        "ax.plot(x, y)\n",
        "plt.show()"
      ],
      "metadata": {
        "colab": {
          "base_uri": "https://localhost:8080/",
          "height": 347
        },
        "id": "oKUrERSZgE_i",
        "outputId": "cbd017c4-2274-41dc-b9cf-8d8f45333060"
      },
      "execution_count": null,
      "outputs": [
        {
          "output_type": "display_data",
          "data": {
            "image/png": "[encoded data removed]",
            "text/plain": [
              "<Figure size 576x396 with 1 Axes>"
            ]
          },
          "metadata": {}
        }
      ]
    },
    {
      "cell_type": "code",
      "source": [
        "# タイトル付け\n",
        "\n",
        "x1 = [1, 2, 3]\n",
        "y1 = [2, 4, 6]\n",
        "x2 = [1, 2, 3]\n",
        "y2 = [-2, -4, -6]\n",
        "\n",
        "fig, axes = plt.subplots(1, 2) # 横2列\n",
        "axes[0].plot(x1, y1)  # axes[]の順番は変えてもいい\n",
        "axes[0].set_title('diffrent1')  # サブプロットへタイトル付けのメソッド\n",
        "axes[1].plot(x2, y2)\n",
        "axes[1].set_title('dffrenr2')\n",
        "fig.suptitle('Python Graph')  # フィギュアオブジェクトへのタイトル付けメソッド\n",
        "plt.show()                    # suptitle つづりに注意"
      ],
      "metadata": {
        "colab": {
          "base_uri": "https://localhost:8080/",
          "height": 386
        },
        "id": "Pw-WhLyuiFau",
        "outputId": "bdd4ab05-8e66-4966-d44c-d64664ba5700"
      },
      "execution_count": null,
      "outputs": [
        {
          "output_type": "display_data",
          "data": {
            "image/png": "[encoded data removed]",
            "text/plain": [
              "<Figure size 576x396 with 2 Axes>"
            ]
          },
          "metadata": {}
        }
      ]
    },
    {
      "cell_type": "code",
      "source": [
        "# x軸、y軸のラベル付け\n",
        "\n",
        "x = [1, 2, 3]\n",
        "y = [2, 4, 6]\n",
        "\n",
        "fig, ax = plt.subplots()\n",
        "ax.plot(x, y)\n",
        "ax.set_xlabel('xxxx')  # ラベル付けのメソッド\n",
        "ax.set_ylabel('yyyy')\n",
        "plt.show()"
      ],
      "metadata": {
        "colab": {
          "base_uri": "https://localhost:8080/",
          "height": 361
        },
        "id": "Fi_iUJSXB5m-",
        "outputId": "69fb3e3b-a095-4563-96e9-b92016ab011e"
      },
      "execution_count": null,
      "outputs": [
        {
          "output_type": "display_data",
          "data": {
            "image/png": "[encoded data removed]",
            "text/plain": [
              "<Figure size 576x396 with 1 Axes>"
            ]
          },
          "metadata": {}
        }
      ]
    },
    {
      "cell_type": "code",
      "source": [
        "# 凡例表示\n",
        "x = [1, 2, 3]\n",
        "y = [2, 4, 6]\n",
        "\n",
        "fig, ax = plt.subplots()\n",
        "ax.plot(x, y, label='sample legend')  # labelパラメータを使用(パラメータは=で宣言)\n",
        "ax.legend()  # legendメソッドで凡例を出力\n",
        "plt.show()"
      ],
      "metadata": {
        "colab": {
          "base_uri": "https://localhost:8080/",
          "height": 347
        },
        "id": "nPRgUG1dFC9P",
        "outputId": "e1eb873f-a94d-4e98-a313-f0e714ebf864"
      },
      "execution_count": null,
      "outputs": [
        {
          "output_type": "display_data",
          "data": {
            "image/png": "[encoded data removed]",
            "text/plain": [
              "<Figure size 576x396 with 1 Axes>"
            ]
          },
          "metadata": {}
        }
      ]
    },
    {
      "cell_type": "code",
      "source": [
        "# 凡例表示位置を変更する\n",
        "\n",
        "x = [1, 2, 3]\n",
        "y = [2, 4, 6]\n",
        "\n",
        "fig, ax = plt.subplots()\n",
        "ax.plot(x, y, label='sample legend')\n",
        "ax.legend(loc='lower right')  # locパラメータで表示位置変更\n",
        "plt.show()"
      ],
      "metadata": {
        "colab": {
          "base_uri": "https://localhost:8080/",
          "height": 347
        },
        "id": "IVYvyhkgJO0T",
        "outputId": "b1c6fce2-6b0d-4099-d83f-7cb7f093bd77"
      },
      "execution_count": null,
      "outputs": [
        {
          "output_type": "display_data",
          "data": {
            "image/png": "[encoded data removed]",
            "text/plain": [
              "<Figure size 576x396 with 1 Axes>"
            ]
          },
          "metadata": {}
        }
      ]
    },
    {
      "cell_type": "code",
      "source": [
        "# 1つのサブプロットに複数のグラフ\n",
        "\n",
        "x1 = [1, 2, 3]\n",
        "y1 = [2, 4, 6]\n",
        "x2 = [1, 2, 3]\n",
        "y2 = [6, 2, 4]\n",
        "\n",
        "fig, ax = plt.subplots()  # サブプロット1つなのでax\n",
        "ax.plot(x1, y1, label='xxxx')  #凡例表示\n",
        "ax.plot(x2, y2)  # 出力したい数だけplotメソッドを追加。\n",
        "ax.legend()  #凡例出力\n",
        "ax.set_xlabel('time')  # 横軸名付け\n",
        "ax.set_title('traning')  # サブプロットタイトル付け\n",
        "plt.show()"
      ],
      "metadata": {
        "colab": {
          "base_uri": "https://localhost:8080/",
          "height": 376
        },
        "id": "Y5Jk74ctPM-S",
        "outputId": "f20671b4-0b0b-4ff4-a5c9-f78cc3345a0d"
      },
      "execution_count": null,
      "outputs": [
        {
          "output_type": "display_data",
          "data": {
            "image/png": "[encoded data removed]",
            "text/plain": [
              "<Figure size 576x396 with 1 Axes>"
            ]
          },
          "metadata": {}
        }
      ]
    },
    {
      "cell_type": "code",
      "source": [
        "# 曲線グラフ\n",
        "\n",
        "import numpy as np\n",
        "\n",
        "x = np.arange(0, 100, 1)  # （min, MAX, 傾きの横軸）\n",
        "y = np.arange(0, 20, 0.2)\n",
        "yy = y*y\n",
        "\n",
        "fig, ax = plt.subplots()\n",
        "ax.plot(x, yy)\n",
        "plt.show()"
      ],
      "metadata": {
        "colab": {
          "base_uri": "https://localhost:8080/",
          "height": 347
        },
        "id": "VNQx9Zxaaw1m",
        "outputId": "09eeafea-c2e3-4597-d85a-e3ab1d95cad4"
      },
      "execution_count": null,
      "outputs": [
        {
          "output_type": "display_data",
          "data": {
            "image/png": "[encoded data removed]",
            "text/plain": [
              "<Figure size 576x396 with 1 Axes>"
            ]
          },
          "metadata": {}
        }
      ]
    },
    {
      "cell_type": "code",
      "source": [
        "# 棒グラフ\n",
        "\n",
        "x = [1, 2, 3]\n",
        "y = [8, 2, 4]\n",
        "\n",
        "fig, axes = plt.subplots(1, 2)\n",
        "axes[0].bar(x, y)  # barメソッドで棒グラフに\n",
        "labels = ['label1 1', 'label 2', 'label 3']  # ラベル名定義はリストで\n",
        "axes[1].bar(x, y, tick_label=labels)  # 棒グラフはtick_labelパラメータでラベル付け\n",
        "plt.show()"
      ],
      "metadata": {
        "colab": {
          "base_uri": "https://localhost:8080/",
          "height": 347
        },
        "id": "Jqe8bZzXdVm-",
        "outputId": "913cdc21-5f00-42da-8478-329eda4a9f4b"
      },
      "execution_count": null,
      "outputs": [
        {
          "output_type": "display_data",
          "data": {
            "image/png": "[encoded data removed]",
            "text/plain": [
              "<Figure size 576x396 with 2 Axes>"
            ]
          },
          "metadata": {}
        }
      ]
    },
    {
      "cell_type": "code",
      "source": [
        "# 棒グラフ横向き\n",
        "\n",
        "fig, ax = plt.subplots()\n",
        "ax.barh(x, y)  # barhメソッドで横向き\n",
        "plt.show()"
      ],
      "metadata": {
        "colab": {
          "base_uri": "https://localhost:8080/",
          "height": 347
        },
        "id": "NekDGkVVglFg",
        "outputId": "74ecc22c-3455-41dc-99a7-cd04b1f6f11f"
      },
      "execution_count": null,
      "outputs": [
        {
          "output_type": "display_data",
          "data": {
            "image/png": "[encoded data removed]",
            "text/plain": [
              "<Figure size 576x396 with 1 Axes>"
            ]
          },
          "metadata": {}
        }
      ]
    },
    {
      "cell_type": "code",
      "source": [
        "# 比較棒グラフ1\n",
        "\n",
        "fig, ax = plt.subplots()\n",
        "\n",
        "x = [1, 2, 3]\n",
        "y1 = [4, 12, 5]\n",
        "y2 = [8, 2, 4]\n",
        "\n",
        "ax.bar(x, y1, label='y1')\n",
        "ax.bar(x, y2, label='y2')  # 横軸xは共通\n",
        "ax.legend()\n",
        "plt.show()"
      ],
      "metadata": {
        "colab": {
          "base_uri": "https://localhost:8080/",
          "height": 347
        },
        "id": "qhMkOLCTiZBQ",
        "outputId": "a252e9f8-c652-48a3-9d82-5f28520a1d3d"
      },
      "execution_count": null,
      "outputs": [
        {
          "output_type": "display_data",
          "data": {
            "image/png": "[encoded data removed]",
            "text/plain": [
              "<Figure size 576x396 with 1 Axes>"
            ]
          },
          "metadata": {}
        }
      ]
    },
    {
      "cell_type": "code",
      "source": [
        "# 比較棒グラフ2\n",
        "fig, ax = plt.subplots()\n",
        "\n",
        "width = 0.4  # 横幅を短く\n",
        "ax.bar(x, y1, width=width, label='y1')  # widthパラメータで横幅変更\n",
        "ax.bar(x, y2, width=width, label='y2')\n",
        "ax.legend()\n",
        "plt.show()"
      ],
      "metadata": {
        "colab": {
          "base_uri": "https://localhost:8080/",
          "height": 347
        },
        "id": "M3kjUuptkLlL",
        "outputId": "7499d4ef-54af-4009-db9a-a2080a4c0a2a"
      },
      "execution_count": null,
      "outputs": [
        {
          "output_type": "display_data",
          "data": {
            "image/png": "[encoded data removed]",
            "text/plain": [
              "<Figure size 576x396 with 1 Axes>"
            ]
          },
          "metadata": {}
        }
      ]
    },
    {
      "cell_type": "code",
      "source": [
        "# 比較棒グラフ3\n",
        "fig, ax = plt.subplots()\n",
        "\n",
        "width = 0.4\n",
        "ax.bar(x, y1, width=width, label='y1')\n",
        "x2 = [num + width for num in x]  # y2のx軸を横に0.4ずらす。\n",
        "                                 # 「for 変数 in リスト」でリストを呼び、それぞれに+0.4\n",
        "                                 # for in の方が処理優先度が高い。全て取り出すのでfor文\n",
        "ax.bar(x2, y2, width=width, label='y2')\n",
        "ax.legend()\n",
        "plt.show()"
      ],
      "metadata": {
        "colab": {
          "base_uri": "https://localhost:8080/",
          "height": 347
        },
        "id": "snOLzTlulweb",
        "outputId": "79fa95eb-f6ba-481c-ebd0-584e64ef5645"
      },
      "execution_count": null,
      "outputs": [
        {
          "output_type": "display_data",
          "data": {
            "image/png": "[encoded data removed]",
            "text/plain": [
              "<Figure size 576x396 with 1 Axes>"
            ]
          },
          "metadata": {}
        }
      ]
    },
    {
      "cell_type": "code",
      "source": [
        "# 比較棒グラフ4\n",
        "\n",
        "fig, ax = plt.subplots()\n",
        "labels = ['Apple', 'Banana', 'Orange']  # label名の定義\n",
        "width = 0.4\n",
        "\n",
        "ax.bar(x, y1, width=width, label='y1')\n",
        "\n",
        "x2 = [num + width for num in x]\n",
        "ax.bar(x2, y2, width=width, label='y2')\n",
        "plt.legend()\n",
        "\n",
        "x3 = [num + width/2 for num in x]  # labelsの目盛りをずらすための変数x3\n",
        "plt.xticks(x3, labels)             # x軸の目盛りを指定するメソッド（棒グラフでは）\n",
        "                                   # .xticks(目盛り, 名前)\n",
        "plt.show()"
      ],
      "metadata": {
        "colab": {
          "base_uri": "https://localhost:8080/",
          "height": 347
        },
        "id": "9x0RlAnYrteS",
        "outputId": "cf7eb932-26a1-49c8-e6f4-208b72f9c778"
      },
      "execution_count": null,
      "outputs": [
        {
          "output_type": "display_data",
          "data": {
            "image/png": "[encoded data removed]",
            "text/plain": [
              "<Figure size 576x396 with 1 Axes>"
            ]
          },
          "metadata": {}
        }
      ]
    },
    {
      "cell_type": "markdown",
      "source": [
        "# 6日目 2/6 Matplotlib4～6"
      ],
      "metadata": {
        "id": "0Oomyhmv3ltf"
      }
    },
    {
      "cell_type": "code",
      "source": [
        "# 積み上げ棒グラフ1\n",
        "import numpy as np\n",
        "import matplotlib.pyplot as plt\n",
        "\n",
        "fig, ax = plt.subplots()\n",
        "\n",
        "x = [1, 2, 3]\n",
        "y1 = [4, 12, 5]\n",
        "y2 = [8, 2, 4]\n",
        "y_total = np.add(y1, y2)  # numpyのadd関数を使用。\n",
        "labels = ['Apple', 'Banana', 'Orange']\n",
        "\n",
        "ax.bar(x, y_total, tick_label=labels, label='y2')  # 目盛り位置は変えないのでtick_labelパラメータを使用。\n",
        "ax.bar(x, y1, label='y1')  # 後から追加したものが下に表示されるのでy2,y1の順で実行\n",
        "ax.legend()  # labelパラメータの出力\n",
        "plt.show()"
      ],
      "metadata": {
        "colab": {
          "base_uri": "https://localhost:8080/",
          "height": 265
        },
        "id": "ai6XTCw-tL8Y",
        "outputId": "20d90aff-ee4c-4948-81ab-9a84cc9070ad"
      },
      "execution_count": null,
      "outputs": [
        {
          "output_type": "display_data",
          "data": {
            "image/png": "[encoded data removed]",
            "text/plain": [
              "<Figure size 432x288 with 1 Axes>"
            ]
          },
          "metadata": {
            "needs_background": "light"
          }
        }
      ]
    },
    {
      "cell_type": "code",
      "source": [
        "# 補足 numpy なし\n",
        "fig, ax = plt.subplots()\n",
        "\n",
        "x = [1, 2, 3]\n",
        "y1 = [4, 12, 5]\n",
        "y2 = [8, 2, 4]\n",
        "\n",
        "ax.bar(x, y1)\n",
        "ax.bar(x, y2)  # y1の上からy2を塗りつぶしているだけ\n",
        "plt.show()"
      ],
      "metadata": {
        "colab": {
          "base_uri": "https://localhost:8080/",
          "height": 265
        },
        "id": "Hz2RYaBBxc21",
        "outputId": "f5cd35e7-0620-4863-bc08-8f50db0412a7"
      },
      "execution_count": null,
      "outputs": [
        {
          "output_type": "display_data",
          "data": {
            "image/png": "[encoded data removed]",
            "text/plain": [
              "<Figure size 432x288 with 1 Axes>"
            ]
          },
          "metadata": {
            "needs_background": "light"
          }
        }
      ]
    },
    {
      "cell_type": "code",
      "source": [
        "# 積み上げ棒グラフ2]\n",
        "# 見た目的に上乗せする順：下からy1→y1+y2→y1+y2+y3。変数定義は正順、出力は逆順で。\n",
        "fig, ax = plt.subplots()\n",
        "\n",
        "x = [1, 2, 3]\n",
        "y1 = [4, 12, 5]\n",
        "y2 = [8, 2, 4]\n",
        "y3 = [2, 6, 8]\n",
        "\n",
        "y1_y2_total = np.add(y1, y2)  # y2のための変数\n",
        "y_total = np.add(y1_y2_total, y3)  # y3のための変数\n",
        "labels = ['Apple', 'Banana', 'Orange']\n",
        "\n",
        "ax.bar(x, y_total, tick_label=labels, label='y3')  # まずはy3から\n",
        "ax.bar(x, y1_y2_total, label='y2')\n",
        "ax.bar(x, y1, label='y1')\n",
        "ax.legend()\n",
        "plt.show()"
      ],
      "metadata": {
        "colab": {
          "base_uri": "https://localhost:8080/",
          "height": 265
        },
        "id": "mTMLcqiE1ahO",
        "outputId": "1ca0fb54-42cc-4d8c-e933-9ef0da2a58b2"
      },
      "execution_count": null,
      "outputs": [
        {
          "output_type": "display_data",
          "data": {
            "image/png": "[encoded data removed]",
            "text/plain": [
              "<Figure size 432x288 with 1 Axes>"
            ]
          },
          "metadata": {
            "needs_background": "light"
          }
        }
      ]
    },
    {
      "cell_type": "code",
      "source": [
        "# 散布図1\n",
        "science_score = [43, 78, 73, 86, 89, 61, 84, 66, 87, 89]\n",
        "math_score = [51, 71, 69, 82, 80, 60, 88, 56, 85, 99]\n",
        "\n",
        "fig, ax = plt.subplots()\n",
        "ax.scatter(science_score, math_score)  # scatter(x軸リスト, y軸リスト)メソッド\n",
        "plt.show()"
      ],
      "metadata": {
        "colab": {
          "base_uri": "https://localhost:8080/",
          "height": 265
        },
        "id": "M7PckIFW8qeB",
        "outputId": "228aef40-3cc4-4b98-bd1f-efe595c8b405"
      },
      "execution_count": null,
      "outputs": [
        {
          "output_type": "display_data",
          "data": {
            "image/png": "[encoded data removed]",
            "text/plain": [
              "<Figure size 432x288 with 1 Axes>"
            ]
          },
          "metadata": {
            "needs_background": "light"
          }
        }
      ]
    },
    {
      "cell_type": "code",
      "source": [
        "# 散布図2 マーカーの変更\n",
        "fig, ax = plt.subplots()\n",
        "ax.scatter(science_score, math_score, marker='v')  # markerパラメータ\n",
        "plt.show()"
      ],
      "metadata": {
        "colab": {
          "base_uri": "https://localhost:8080/",
          "height": 265
        },
        "id": "-ECXxCFEBtTd",
        "outputId": "40fe1fd1-2e68-4bf3-b7fc-92e1f627168b"
      },
      "execution_count": null,
      "outputs": [
        {
          "output_type": "display_data",
          "data": {
            "image/png": "[encoded data removed]",
            "text/plain": [
              "<Figure size 432x288 with 1 Axes>"
            ]
          },
          "metadata": {
            "needs_background": "light"
          }
        }
      ]
    },
    {
      "cell_type": "code",
      "source": [
        "# 散布図3 行列描画\n",
        "from pandas.plotting import scatter_matrix  # scatter_matrix関数(引数はDataFrame)をインポート\n",
        "import pandas as pd  # pandasをインポート\n",
        "\n",
        "import matplotlib.font_manager as fm  # font_managerクラスのインポート\n",
        "fprop = fm.FontProperties(fname='NotoSansJP-Regular.otf')  # FontPropertiesインスタンスの作成\n",
        "\n",
        "df = pd.DataFrame([[\"A\", 43, 51, 81, 61, 65],\n",
        "                   [\"B\", 78, 71, 83, 88, 86],\n",
        "                   [\"C\", 73, 69, 89, 51, 69],\n",
        "                   [\"D\", 86, 82, 87, 85, 62],\n",
        "                   [\"E\", 89, 80, 77, 55, 63],\n",
        "                   [\"F\", 61, 60, 86, 90, 90],\n",
        "                   [\"G\", 84, 88, 65, 74, 84],\n",
        "                   [\"H\", 66, 56, 98, 84, 72],\n",
        "                   [\"I\", 87, 85, 56, 58, 51],\n",
        "                   [\"J\", 89, 99, 88, 58, 66]],\n",
        "                  columns=[\"生徒\", \"理科\", \"数学\", \"国語\", \"英語\", \"社会\"]\n",
        "                  )  # columnsが列、rowが行\n",
        "df"
      ],
      "metadata": {
        "colab": {
          "base_uri": "https://localhost:8080/",
          "height": 363
        },
        "id": "pzsAnMqxCljb",
        "outputId": "3e348fd6-02fb-44e1-f71d-91cac15a1656"
      },
      "execution_count": 40,
      "outputs": [
        {
          "output_type": "execute_result",
          "data": {
            "text/html": [
              "\n",
              "  <div id=\"df-d091911a-3dfc-48ba-9263-da641f3c7ba4\">\n",
              "    <div class=\"colab-df-container\">\n",
              "      <div>\n",
              "<style scoped>\n",
              "    .dataframe tbody tr th:only-of-type {\n",
              "        vertical-align: middle;\n",
              "    }\n",
              "\n",
              "    .dataframe tbody tr th {\n",
              "        vertical-align: top;\n",
              "    }\n",
              "\n",
              "    .dataframe thead th {\n",
              "        text-align: right;\n",
              "    }\n",
              "</style>\n",
              "<table border=\"1\" class=\"dataframe\">\n",
              "  <thead>\n",
              "    <tr style=\"text-align: right;\">\n",
              "      <th></th>\n",
              "      <th>生徒</th>\n",
              "      <th>理科</th>\n",
              "      <th>数学</th>\n",
              "      <th>国語</th>\n",
              "      <th>英語</th>\n",
              "      <th>社会</th>\n",
              "    </tr>\n",
              "  </thead>\n",
              "  <tbody>\n",
              "    <tr>\n",
              "      <th>0</th>\n",
              "      <td>A</td>\n",
              "      <td>43</td>\n",
              "      <td>51</td>\n",
              "      <td>81</td>\n",
              "      <td>61</td>\n",
              "      <td>65</td>\n",
              "    </tr>\n",
              "    <tr>\n",
              "      <th>1</th>\n",
              "      <td>B</td>\n",
              "      <td>78</td>\n",
              "      <td>71</td>\n",
              "      <td>83</td>\n",
              "      <td>88</td>\n",
              "      <td>86</td>\n",
              "    </tr>\n",
              "    <tr>\n",
              "      <th>2</th>\n",
              "      <td>C</td>\n",
              "      <td>73</td>\n",
              "      <td>69</td>\n",
              "      <td>89</td>\n",
              "      <td>51</td>\n",
              "      <td>69</td>\n",
              "    </tr>\n",
              "    <tr>\n",
              "      <th>3</th>\n",
              "      <td>D</td>\n",
              "      <td>86</td>\n",
              "      <td>82</td>\n",
              "      <td>87</td>\n",
              "      <td>85</td>\n",
              "      <td>62</td>\n",
              "    </tr>\n",
              "    <tr>\n",
              "      <th>4</th>\n",
              "      <td>E</td>\n",
              "      <td>89</td>\n",
              "      <td>80</td>\n",
              "      <td>77</td>\n",
              "      <td>55</td>\n",
              "      <td>63</td>\n",
              "    </tr>\n",
              "    <tr>\n",
              "      <th>5</th>\n",
              "      <td>F</td>\n",
              "      <td>61</td>\n",
              "      <td>60</td>\n",
              "      <td>86</td>\n",
              "      <td>90</td>\n",
              "      <td>90</td>\n",
              "    </tr>\n",
              "    <tr>\n",
              "      <th>6</th>\n",
              "      <td>G</td>\n",
              "      <td>84</td>\n",
              "      <td>88</td>\n",
              "      <td>65</td>\n",
              "      <td>74</td>\n",
              "      <td>84</td>\n",
              "    </tr>\n",
              "    <tr>\n",
              "      <th>7</th>\n",
              "      <td>H</td>\n",
              "      <td>66</td>\n",
              "      <td>56</td>\n",
              "      <td>98</td>\n",
              "      <td>84</td>\n",
              "      <td>72</td>\n",
              "    </tr>\n",
              "    <tr>\n",
              "      <th>8</th>\n",
              "      <td>I</td>\n",
              "      <td>87</td>\n",
              "      <td>85</td>\n",
              "      <td>56</td>\n",
              "      <td>58</td>\n",
              "      <td>51</td>\n",
              "    </tr>\n",
              "    <tr>\n",
              "      <th>9</th>\n",
              "      <td>J</td>\n",
              "      <td>89</td>\n",
              "      <td>99</td>\n",
              "      <td>88</td>\n",
              "      <td>58</td>\n",
              "      <td>66</td>\n",
              "    </tr>\n",
              "  </tbody>\n",
              "</table>\n",
              "</div>\n",
              "      <button class=\"colab-df-convert\" onclick=\"convertToInteractive('df-d091911a-3dfc-48ba-9263-da641f3c7ba4')\"\n",
              "              title=\"Convert this dataframe to an interactive table.\"\n",
              "              style=\"display:none;\">\n",
              "        \n",
              "  <svg xmlns=\"http://www.w3.org/2000/svg\" height=\"24px\"viewBox=\"0 0 24 24\"\n",
              "       width=\"24px\">\n",
              "    <path d=\"M0 0h24v24H0V0z\" fill=\"none\"/>\n",
              "    <path d=\"M18.56 5.44l.94 2.06.94-2.06 2.06-.94-2.06-.94-.94-2.06-.94 2.06-2.06.94zm-11 1L8.5 8.5l.94-2.06 2.06-.94-2.06-.94L8.5 2.5l-.94 2.06-2.06.94zm10 10l.94 2.06.94-2.06 2.06-.94-2.06-.94-.94-2.06-.94 2.06-2.06.94z\"/><path d=\"M17.41 7.96l-1.37-1.37c-.4-.4-.92-.59-1.43-.59-.52 0-1.04.2-1.43.59L10.3 9.45l-7.72 7.72c-.78.78-.78 2.05 0 2.83L4 21.41c.39.39.9.59 1.41.59.51 0 1.02-.2 1.41-.59l7.78-7.78 2.81-2.81c.8-.78.8-2.07 0-2.86zM5.41 20L4 18.59l7.72-7.72 1.47 1.35L5.41 20z\"/>\n",
              "  </svg>\n",
              "      </button>\n",
              "      \n",
              "  <style>\n",
              "    .colab-df-container {\n",
              "      display:flex;\n",
              "      flex-wrap:wrap;\n",
              "      gap: 12px;\n",
              "    }\n",
              "\n",
              "    .colab-df-convert {\n",
              "      background-color: #E8F0FE;\n",
              "      border: none;\n",
              "      border-radius: 50%;\n",
              "      cursor: pointer;\n",
              "      display: none;\n",
              "      fill: #1967D2;\n",
              "      height: 32px;\n",
              "      padding: 0 0 0 0;\n",
              "      width: 32px;\n",
              "    }\n",
              "\n",
              "    .colab-df-convert:hover {\n",
              "      background-color: #E2EBFA;\n",
              "      box-shadow: 0px 1px 2px rgba(60, 64, 67, 0.3), 0px 1px 3px 1px rgba(60, 64, 67, 0.15);\n",
              "      fill: #174EA6;\n",
              "    }\n",
              "\n",
              "    [theme=dark] .colab-df-convert {\n",
              "      background-color: #3B4455;\n",
              "      fill: #D2E3FC;\n",
              "    }\n",
              "\n",
              "    [theme=dark] .colab-df-convert:hover {\n",
              "      background-color: #434B5C;\n",
              "      box-shadow: 0px 1px 3px 1px rgba(0, 0, 0, 0.15);\n",
              "      filter: drop-shadow(0px 1px 2px rgba(0, 0, 0, 0.3));\n",
              "      fill: #FFFFFF;\n",
              "    }\n",
              "  </style>\n",
              "\n",
              "      <script>\n",
              "        const buttonEl =\n",
              "          document.querySelector('#df-d091911a-3dfc-48ba-9263-da641f3c7ba4 button.colab-df-convert');\n",
              "        buttonEl.style.display =\n",
              "          google.colab.kernel.accessAllowed ? 'block' : 'none';\n",
              "\n",
              "        async function convertToInteractive(key) {\n",
              "          const element = document.querySelector('#df-d091911a-3dfc-48ba-9263-da641f3c7ba4');\n",
              "          const dataTable =\n",
              "            await google.colab.kernel.invokeFunction('convertToInteractive',\n",
              "                                                     [key], {});\n",
              "          if (!dataTable) return;\n",
              "\n",
              "          const docLinkHtml = 'Like what you see? Visit the ' +\n",
              "            '<a target=\"_blank\" href=https://colab.research.google.com/notebooks/data_table.ipynb>data table notebook</a>'\n",
              "            + ' to learn more about interactive tables.';\n",
              "          element.innerHTML = '';\n",
              "          dataTable['output_type'] = 'display_data';\n",
              "          await google.colab.output.renderOutput(dataTable, element);\n",
              "          const docLink = document.createElement('div');\n",
              "          docLink.innerHTML = docLinkHtml;\n",
              "          element.appendChild(docLink);\n",
              "        }\n",
              "      </script>\n",
              "    </div>\n",
              "  </div>\n",
              "  "
            ],
            "text/plain": [
              "  生徒  理科  数学  国語  英語  社会\n",
              "0  A  43  51  81  61  65\n",
              "1  B  78  71  83  88  86\n",
              "2  C  73  69  89  51  69\n",
              "3  D  86  82  87  85  62\n",
              "4  E  89  80  77  55  63\n",
              "5  F  61  60  86  90  90\n",
              "6  G  84  88  65  74  84\n",
              "7  H  66  56  98  84  72\n",
              "8  I  87  85  56  58  51\n",
              "9  J  89  99  88  58  66"
            ]
          },
          "metadata": {},
          "execution_count": 40
        }
      ]
    },
    {
      "cell_type": "code",
      "source": [
        "# 散布図3 行列描画2\n",
        "# リストデータを扱うため変数に定義。\n",
        "# numpyで使用するravel関数を使い一次元リストに見た目のみを整形。ravelはほぐす。\n",
        "# 一次元化した変数から要素を取り出し、labelメソッドで描画。\n",
        "# 実際に入力するlabelはgetメソッドで抽出し、日本語フォントで出力\n",
        "\n",
        "scatter_matrix = pd.plotting.scatter_matrix(df) \n",
        "for ax in scatter_matrix.ravel():\n",
        "    ax.set_xlabel(ax.get_xlabel(), fontproperties=fprop)\n",
        "    ax.set_ylabel(ax.get_ylabel(), fontproperties=fprop)\n",
        "\n",
        "plt.show()"
      ],
      "metadata": {
        "colab": {
          "base_uri": "https://localhost:8080/",
          "height": 284
        },
        "id": "rk8udqspFx0Z",
        "outputId": "16eb6ae7-09f9-4fa3-8419-d670846ae69f"
      },
      "execution_count": 45,
      "outputs": [
        {
          "output_type": "display_data",
          "data": {
            "image/png": "[encoded data removed]",
            "text/plain": [
              "<Figure size 432x288 with 25 Axes>"
            ]
          },
          "metadata": {
            "needs_background": "light"
          }
        }
      ]
    },
    {
      "cell_type": "code",
      "source": [
        "# ヒストグラム1\n",
        "import matplotlib.pyplot as plt\n",
        "import numpy as np\n",
        "\n",
        "np.random.seed(123)  # 乱数を123に設定\n",
        "mu = 40\n",
        "sigma = 5\n",
        "x = np.random.normal(mu, sigma, 1000)  # 正規分布の乱数出力、(平均, 標準偏差, 出力する件数)\n",
        "age_list = [round(age) for age in x]  # round関数で少数点以下を整数にまとめている\n",
        "                                      # 出力件数の数がy軸\n",
        "fig, ax = plt.subplots()\n",
        "ax.set_xlabel('age')\n",
        "ax.set_ylabel('quantity')  # quantityは'量・数'\n",
        "ax.hist(x)  # histメソッドでヒストグラムを描画\n",
        "plt.show()"
      ],
      "metadata": {
        "colab": {
          "base_uri": "https://localhost:8080/",
          "height": 283
        },
        "id": "xg8kJyjqXZ2K",
        "outputId": "3ccad0ed-f0e5-4b9b-cd20-47254f3bae1e"
      },
      "execution_count": null,
      "outputs": [
        {
          "output_type": "display_data",
          "data": {
            "image/png": "[encoded data removed]",
            "text/plain": [
              "<Figure size 432x288 with 1 Axes>"
            ]
          },
          "metadata": {
            "needs_background": "light"
          }
        }
      ]
    },
    {
      "cell_type": "code",
      "source": [
        "# ヒストグラム2 解像度を上げる\n",
        "fig, ax = plt.subplots()\n",
        "ax.set_xlabel('age')\n",
        "ax.set_ylabel('quantity')  \n",
        "ax.hist(x, bins=30)  # histメソッドのbinsパラメータでピン数が増加。初期値は10\n",
        "plt.show()"
      ],
      "metadata": {
        "colab": {
          "base_uri": "https://localhost:8080/",
          "height": 279
        },
        "id": "LMxOecHRE4k_",
        "outputId": "1240afd5-db63-4a0b-a2f3-8b291d0a439e"
      },
      "execution_count": null,
      "outputs": [
        {
          "output_type": "display_data",
          "data": {
            "image/png": "[encoded data removed]",
            "text/plain": [
              "<Figure size 432x288 with 1 Axes>"
            ]
          },
          "metadata": {
            "needs_background": "light"
          }
        }
      ]
    },
    {
      "cell_type": "code",
      "source": [
        "# ヒストグラム3 横向き\n",
        "fig, ax = plt.subplots()\n",
        "ax.set_xlabel('quantity')\n",
        "ax.set_ylabel('age')  \n",
        "ax.hist(x, bins=30, orientation='horizontal')  # histメソッドの引数であるorientation='horizontal'で横向きに\n",
        "plt.show()"
      ],
      "metadata": {
        "colab": {
          "base_uri": "https://localhost:8080/",
          "height": 279
        },
        "id": "iT3Izle0GDS3",
        "outputId": "3db50eda-c918-4ad3-b3cc-d2774fd96fa1"
      },
      "execution_count": null,
      "outputs": [
        {
          "output_type": "display_data",
          "data": {
            "image/png": "[encoded data removed]",
            "text/plain": [
              "<Figure size 432x288 with 1 Axes>"
            ]
          },
          "metadata": {
            "needs_background": "light"
          }
        }
      ]
    },
    {
      "cell_type": "code",
      "source": [
        "# ヒストグラム4 度数分布表\n",
        "# histメソッドは返り値として度数分布表に使用できるデータを返す。\n",
        "# このデータを取得する場合、histメソッドの呼び出した結果を変数に代入する。\n",
        "# n=各ビンの要素数、bins=ビンの境界値、patches=ビンを描画するためのオブジェクト情報\n",
        "# for 変数A, 変数B in enumerate(イテラブル, 開始値)。開始値は0から始まる整数、省略時は0。\n",
        "# ↑イテラブルから取り出したものをタプル(A＝カウント, B＝値)で返す。\n",
        "# ↓つまり、histした要素数 n から取り出したカウント i(0開始) 、値 num\n",
        "\n",
        "n, bins, patches = ax.hist(x, bins=10)  \n",
        "for i, num in enumerate(n):  \n",
        "  print('{:.2f} - {:.2f}: {}'.format(bins[i], bins[i + 1], num))\n",
        "\n",
        "# formatメソッド内。カウント1のbins, カウント1+1のbins, 値つまり人数\n",
        "# {:.2f}は代入される変数の小数点2桁まで表示\n",
        "# bins[0]は境界値1。つまりbins=10なら、1～2, 2～3, 3～4, 4～5, 5～6, 6～7, 7～8, 8～9, 9～10, 10～11\n",
        "# 今回でいうと境界値binsは購入した年齢層(min, MAX)を指定した数に区切る。その区切った枠に当てはまる購入人数を度数分布描画している。"
      ],
      "metadata": {
        "colab": {
          "base_uri": "https://localhost:8080/"
        },
        "id": "_PbrxlggHD8y",
        "outputId": "7d9d143c-b5e0-4a9f-d839-a86e0e232c37"
      },
      "execution_count": null,
      "outputs": [
        {
          "output_type": "stream",
          "name": "stdout",
          "text": [
            "23.84 - 27.25: 7.0\n",
            "27.25 - 30.65: 27.0\n",
            "30.65 - 34.05: 95.0\n",
            "34.05 - 37.45: 183.0\n",
            "37.45 - 40.85: 286.0\n",
            "40.85 - 44.25: 202.0\n",
            "44.25 - 47.65: 142.0\n",
            "47.65 - 51.06: 49.0\n",
            "51.06 - 54.46: 7.0\n",
            "54.46 - 57.86: 2.0\n"
          ]
        }
      ]
    },
    {
      "cell_type": "code",
      "source": [
        "# ヒストグラム5 複数データ1\n",
        "# 3種類の商品での購入者の年齢データ\n",
        "mu = 40\n",
        "aigma = 5\n",
        "\n",
        "np.random.seed(123)\n",
        "x1 = np.random.normal(mu, sigma, 1000)\n",
        "np.random.seed(124)\n",
        "x2 = np.random.normal(mu, sigma, 1000)\n",
        "np.random.seed(125)\n",
        "x3 = np.random.normal(mu, sigma, 1000)\n",
        "\n",
        "age_list1, age_list2, age_list3 = [round(age) for age in x1], [round(age) for age in x2], [round(age) for age in x3]\n",
        "print(age_list1, age_list2, age_list3)"
      ],
      "metadata": {
        "colab": {
          "base_uri": "https://localhost:8080/"
        },
        "id": "ATvmIsEERjDx",
        "outputId": "93675c4d-e780-44b5-acfa-1690b68a2137"
      },
      "execution_count": null,
      "outputs": [
        {
          "output_type": "stream",
          "name": "stdout",
          "text": [
            "[35, 45, 41, 32, 37, 48, 28, 38, 46, 36, 37, 40, 47, 37, 38, 38, 51, 51, 45, 42, 44, 47, 35, 46, 34, 37, 45, 33, 39, 36, 39, 26, 31, 37, 45, 39, 40, 43, 36, 41, 36, 31, 38, 43, 42, 40, 52, 42, 45, 51, 34, 35, 49, 36, 40, 45, 44, 49, 47, 45, 36, 44, 42, 33, 47, 44, 40, 39, 34, 41, 42, 36, 46, 35, 29, 45, 38, 39, 36, 32, 46, 37, 48, 44, 38, 35, 36, 34, 50, 41, 46, 34, 41, 46, 38, 45, 35, 33, 42, 38, 43, 30, 44, 53, 40, 40, 41, 31, 42, 32, 38, 46, 36, 43, 45, 41, 33, 38, 50, 30, 39, 37, 41, 44, 48, 39, 44, 42, 42, 37, 35, 34, 36, 42, 44, 42, 37, 49, 48, 38, 36, 41, 46, 42, 43, 39, 42, 48, 39, 41, 41, 41, 33, 31, 35, 41, 43, 37, 47, 39, 40, 39, 41, 44, 43, 36, 48, 35, 40, 39, 35, 40, 36, 40, 42, 47, 42, 37, 38, 41, 40, 47, 47, 38, 37, 27, 37, 35, 38, 42, 41, 40, 41, 39, 41, 24, 39, 39, 38, 39, 44, 37, 51, 43, 40, 39, 40, 35, 40, 41, 43, 43, 39, 33, 37, 48, 44, 42, 36, 40, 34, 37, 39, 38, 45, 33, 36, 33, 34, 41, 32, 44, 39, 40, 42, 38, 45, 39, 43, 39, 41, 41, 41, 35, 42, 38, 43, 29, 33, 42, 49, 44, 37, 32, 44, 40, 43, 41, 40, 55, 40, 39, 39, 37, 45, 38, 43, 41, 46, 42, 34, 33, 47, 37, 33, 37, 46, 33, 36, 37, 34, 34, 32, 38, 38, 37, 32, 46, 33, 41, 35, 43, 45, 36, 30, 43, 49, 42, 41, 44, 44, 36, 37, 43, 39, 47, 36, 44, 42, 39, 46, 43, 35, 43, 47, 39, 39, 37, 40, 43, 36, 33, 38, 33, 43, 38, 31, 38, 39, 42, 39, 49, 37, 40, 39, 39, 41, 43, 47, 32, 37, 38, 45, 38, 31, 40, 40, 41, 35, 49, 38, 39, 35, 35, 34, 38, 35, 50, 31, 34, 38, 43, 38, 43, 35, 40, 49, 35, 42, 41, 29, 37, 46, 41, 34, 43, 38, 42, 42, 34, 44, 35, 33, 36, 38, 41, 36, 44, 41, 37, 44, 46, 40, 39, 31, 38, 39, 41, 39, 41, 48, 37, 38, 33, 40, 45, 31, 37, 40, 44, 42, 42, 39, 42, 45, 31, 44, 40, 37, 28, 33, 48, 37, 35, 38, 36, 41, 48, 37, 41, 34, 48, 41, 35, 45, 46, 41, 32, 49, 42, 46, 37, 38, 41, 46, 41, 34, 41, 48, 40, 41, 34, 33, 37, 38, 41, 41, 48, 40, 45, 40, 47, 31, 37, 45, 39, 45, 42, 45, 43, 43, 47, 45, 45, 40, 37, 37, 44, 28, 33, 35, 39, 27, 46, 43, 50, 45, 45, 51, 37, 32, 39, 36, 39, 35, 43, 43, 40, 42, 39, 44, 40, 39, 45, 46, 47, 35, 37, 31, 39, 42, 39, 50, 38, 35, 43, 41, 43, 42, 41, 29, 36, 37, 38, 38, 42, 43, 34, 43, 43, 42, 33, 42, 40, 45, 49, 48, 41, 40, 43, 34, 33, 38, 46, 38, 48, 26, 32, 39, 44, 40, 40, 39, 31, 46, 37, 45, 40, 45, 42, 39, 41, 33, 40, 49, 47, 35, 43, 41, 44, 40, 39, 47, 41, 46, 45, 38, 39, 50, 41, 36, 34, 45, 41, 36, 43, 41, 32, 43, 47, 53, 40, 41, 48, 41, 41, 37, 33, 45, 34, 46, 36, 41, 38, 46, 42, 50, 35, 42, 40, 41, 48, 43, 34, 43, 38, 38, 45, 37, 38, 40, 45, 43, 39, 39, 34, 36, 37, 39, 50, 37, 39, 30, 43, 32, 35, 45, 29, 40, 44, 48, 35, 37, 49, 40, 36, 36, 35, 38, 45, 44, 34, 41, 38, 44, 39, 42, 39, 29, 40, 34, 44, 37, 37, 40, 43, 39, 48, 48, 49, 39, 33, 46, 38, 40, 43, 32, 48, 44, 42, 44, 43, 41, 38, 36, 41, 42, 45, 41, 36, 32, 39, 40, 40, 32, 45, 45, 36, 44, 45, 40, 35, 48, 42, 39, 44, 48, 38, 43, 50, 34, 37, 37, 39, 39, 42, 36, 37, 42, 41, 44, 42, 44, 34, 38, 49, 42, 44, 41, 42, 39, 58, 38, 40, 28, 46, 37, 40, 37, 39, 39, 40, 40, 39, 39, 47, 44, 44, 36, 46, 46, 37, 48, 37, 31, 46, 39, 45, 36, 34, 46, 33, 32, 30, 26, 35, 29, 40, 29, 35, 52, 42, 40, 32, 39, 40, 32, 41, 46, 38, 39, 30, 33, 45, 37, 35, 37, 40, 34, 41, 33, 44, 35, 47, 40, 36, 45, 33, 37, 40, 39, 30, 35, 41, 33, 46, 42, 37, 39, 49, 45, 42, 33, 48, 45, 39, 37, 39, 34, 38, 44, 31, 38, 41, 41, 34, 34, 45, 34, 45, 38, 45, 38, 34, 44, 40, 47, 44, 39, 38, 40, 41, 36, 44, 38, 38, 37, 41, 37, 41, 54, 40, 38, 32, 40, 34, 38, 41, 31, 41, 42, 34, 38, 31, 48, 42, 39, 39, 46, 40, 42, 48, 38, 35, 36, 47, 40, 37, 45, 45, 38, 35, 32, 31, 39, 36, 49, 40, 30, 47, 41, 44, 43, 41, 43, 41, 34, 42, 45, 39, 43, 42, 49, 39, 39, 39, 39, 29, 37, 41, 40, 36, 37, 38, 36, 37, 37, 44, 45, 45, 42, 36, 45, 38, 40, 47, 40, 41, 33, 42, 35, 45, 39, 29, 38, 39, 42, 43, 38, 45, 24, 36, 34, 34, 45, 44, 36, 46, 41, 38, 37, 36, 42, 43, 41, 30, 41, 43, 37, 40, 31, 34, 38, 38, 42, 34, 38, 38, 43, 47, 49, 32, 40, 34, 40, 42, 40, 40, 47, 44, 39, 40, 44, 43, 38, 31, 34, 41, 31, 39, 38, 45, 33, 30, 38, 43, 45, 35, 42, 34] [41, 38, 33, 52, 33, 36, 35, 48, 45, 36, 35, 41, 42, 40, 34, 39, 44, 41, 33, 44, 29, 46, 41, 35, 44, 40, 39, 39, 44, 35, 42, 38, 41, 29, 43, 41, 40, 40, 44, 28, 43, 46, 44, 46, 41, 39, 50, 37, 38, 34, 43, 44, 48, 40, 36, 42, 34, 44, 43, 38, 42, 37, 40, 41, 42, 38, 40, 42, 34, 44, 45, 42, 38, 40, 30, 44, 39, 42, 42, 35, 40, 39, 50, 30, 46, 43, 46, 43, 46, 37, 45, 40, 50, 51, 47, 38, 41, 40, 48, 41, 32, 46, 28, 35, 35, 43, 51, 42, 36, 42, 43, 38, 44, 41, 37, 39, 42, 38, 39, 40, 45, 33, 35, 48, 46, 35, 47, 43, 32, 49, 38, 42, 38, 41, 36, 46, 34, 41, 36, 38, 39, 43, 36, 39, 48, 31, 44, 42, 39, 38, 37, 43, 40, 46, 41, 40, 45, 46, 39, 34, 44, 43, 41, 34, 43, 35, 37, 43, 37, 40, 43, 47, 37, 40, 48, 36, 44, 40, 42, 41, 32, 43, 34, 40, 41, 49, 43, 40, 35, 37, 38, 50, 34, 41, 48, 38, 36, 33, 37, 37, 49, 37, 36, 48, 42, 33, 36, 42, 37, 30, 45, 42, 35, 44, 33, 36, 39, 40, 37, 47, 50, 41, 44, 41, 43, 34, 40, 48, 42, 37, 48, 43, 43, 37, 42, 40, 37, 46, 36, 37, 46, 41, 42, 49, 45, 46, 46, 34, 31, 35, 37, 39, 39, 41, 31, 40, 33, 41, 45, 40, 40, 43, 47, 41, 38, 38, 50, 42, 47, 43, 45, 39, 41, 40, 38, 54, 47, 46, 32, 37, 44, 32, 42, 42, 35, 38, 34, 46, 33, 46, 31, 46, 45, 33, 42, 44, 39, 35, 33, 40, 34, 41, 48, 49, 35, 41, 35, 41, 39, 45, 36, 41, 44, 40, 40, 41, 41, 41, 38, 33, 42, 44, 38, 40, 43, 40, 48, 33, 37, 39, 37, 40, 38, 37, 43, 47, 37, 39, 41, 45, 30, 38, 41, 37, 40, 44, 40, 32, 38, 42, 42, 35, 45, 43, 41, 36, 46, 29, 37, 40, 42, 52, 34, 38, 46, 38, 40, 35, 34, 42, 38, 36, 35, 36, 42, 43, 41, 37, 26, 37, 30, 43, 42, 37, 36, 27, 46, 42, 40, 36, 46, 41, 36, 29, 39, 40, 38, 37, 48, 40, 35, 45, 39, 40, 47, 41, 43, 40, 48, 45, 49, 40, 29, 37, 40, 39, 36, 33, 41, 45, 42, 32, 33, 40, 42, 37, 37, 32, 43, 40, 38, 41, 33, 32, 36, 43, 40, 38, 43, 31, 51, 43, 39, 34, 44, 35, 34, 42, 36, 36, 42, 33, 42, 38, 33, 40, 43, 42, 37, 48, 38, 43, 41, 44, 40, 41, 42, 43, 34, 36, 51, 37, 35, 45, 29, 37, 42, 25, 44, 42, 34, 34, 39, 33, 36, 47, 39, 38, 26, 43, 37, 37, 38, 34, 42, 47, 41, 45, 44, 44, 42, 44, 41, 40, 35, 48, 39, 35, 35, 40, 39, 41, 36, 40, 42, 42, 38, 46, 46, 41, 33, 34, 32, 38, 41, 43, 32, 35, 40, 31, 36, 30, 54, 41, 41, 37, 37, 41, 46, 46, 48, 40, 42, 33, 52, 50, 43, 30, 39, 30, 51, 47, 46, 37, 41, 35, 42, 33, 35, 37, 48, 40, 47, 46, 42, 42, 39, 41, 44, 32, 45, 40, 47, 46, 35, 36, 41, 38, 41, 42, 38, 39, 35, 28, 42, 36, 38, 39, 44, 34, 44, 43, 40, 34, 39, 34, 42, 48, 43, 33, 38, 51, 32, 41, 42, 38, 43, 41, 37, 36, 46, 34, 39, 38, 34, 41, 41, 40, 44, 37, 41, 40, 38, 47, 31, 45, 43, 47, 46, 43, 40, 37, 37, 38, 41, 33, 43, 38, 38, 31, 39, 36, 26, 48, 37, 44, 32, 48, 38, 29, 37, 50, 44, 43, 37, 34, 36, 39, 37, 43, 45, 47, 34, 29, 41, 38, 46, 53, 38, 39, 49, 42, 48, 33, 38, 44, 36, 30, 37, 45, 37, 40, 45, 42, 37, 48, 45, 34, 26, 38, 44, 44, 44, 31, 47, 41, 42, 46, 49, 34, 40, 42, 45, 46, 35, 47, 33, 46, 42, 43, 42, 39, 32, 43, 43, 46, 41, 40, 36, 40, 41, 34, 39, 45, 28, 47, 43, 45, 44, 47, 46, 46, 42, 38, 40, 42, 40, 27, 44, 43, 38, 37, 34, 41, 34, 50, 31, 37, 37, 42, 46, 41, 38, 38, 43, 41, 45, 39, 44, 41, 38, 32, 36, 33, 45, 40, 40, 42, 41, 37, 38, 49, 43, 31, 44, 46, 44, 37, 47, 42, 43, 32, 46, 35, 39, 33, 43, 42, 32, 48, 38, 37, 41, 31, 37, 40, 47, 45, 45, 34, 47, 43, 48, 41, 50, 40, 46, 46, 38, 38, 36, 45, 46, 39, 38, 43, 29, 39, 37, 47, 43, 38, 35, 30, 44, 48, 43, 43, 29, 39, 45, 45, 42, 39, 35, 47, 45, 45, 43, 44, 42, 33, 46, 41, 35, 42, 36, 47, 40, 38, 39, 40, 43, 47, 40, 39, 38, 34, 41, 38, 37, 44, 38, 39, 34, 33, 40, 36, 41, 34, 38, 34, 43, 42, 39, 36, 28, 43, 37, 46, 41, 35, 35, 47, 41, 36, 44, 37, 46, 47, 35, 41, 34, 40, 44, 42, 39, 46, 43, 38, 38, 42, 38, 38, 33, 41, 39, 39, 44, 36, 41, 47, 39, 31, 37, 32, 36, 43, 44, 46, 39, 44, 40, 42, 42, 39, 42, 42, 38, 45, 42, 32, 34, 47, 34, 40, 43, 37, 43, 45, 49, 47, 38, 32, 42, 37, 34, 42, 42, 36, 38, 50, 40, 31, 28, 39, 40, 51, 52, 47, 41, 40, 46, 41, 38, 52, 45, 42, 41, 32, 37, 36, 38, 40, 36, 46, 42, 39, 37, 40, 41, 40, 39, 38, 39, 42, 43, 37, 46, 33, 46, 30, 34, 47, 31, 42, 37, 32, 45, 44] [37, 40, 35, 42, 42, 38, 27, 41, 38, 53, 36, 38, 41, 46, 46, 41, 38, 36, 39, 42, 28, 38, 38, 44, 38, 40, 41, 39, 38, 54, 40, 35, 45, 34, 36, 38, 34, 40, 37, 39, 40, 44, 36, 43, 37, 36, 38, 34, 36, 42, 42, 42, 42, 46, 40, 37, 33, 34, 46, 42, 40, 31, 39, 46, 48, 40, 41, 48, 33, 44, 41, 41, 51, 36, 45, 35, 32, 34, 44, 48, 42, 45, 49, 47, 37, 32, 38, 47, 40, 38, 44, 38, 46, 37, 37, 45, 31, 37, 42, 42, 35, 37, 43, 36, 42, 44, 43, 40, 36, 38, 37, 28, 37, 40, 54, 40, 41, 41, 37, 40, 37, 37, 37, 40, 39, 39, 39, 45, 41, 38, 47, 33, 26, 44, 36, 40, 43, 35, 39, 45, 35, 37, 43, 41, 47, 48, 44, 46, 44, 38, 39, 43, 41, 43, 45, 40, 44, 39, 34, 40, 51, 42, 37, 33, 36, 48, 46, 37, 45, 31, 41, 41, 38, 42, 37, 39, 39, 45, 43, 48, 30, 35, 39, 37, 41, 33, 45, 37, 47, 47, 44, 30, 40, 42, 41, 37, 27, 44, 44, 44, 37, 45, 38, 44, 42, 37, 45, 39, 50, 42, 40, 36, 45, 45, 47, 36, 42, 48, 37, 45, 34, 30, 39, 37, 46, 42, 35, 40, 36, 43, 42, 32, 40, 42, 42, 38, 53, 37, 46, 45, 44, 43, 42, 51, 40, 48, 44, 41, 41, 47, 39, 40, 36, 41, 45, 37, 36, 41, 42, 28, 39, 42, 43, 47, 33, 37, 40, 42, 47, 46, 41, 38, 45, 40, 41, 36, 41, 40, 39, 48, 48, 32, 38, 38, 38, 38, 33, 37, 40, 35, 36, 52, 43, 47, 43, 41, 49, 39, 41, 40, 40, 46, 41, 36, 42, 40, 36, 43, 37, 37, 39, 50, 39, 34, 38, 42, 37, 39, 47, 47, 38, 39, 37, 42, 39, 41, 46, 44, 41, 50, 41, 47, 47, 41, 36, 41, 37, 38, 39, 44, 39, 33, 32, 41, 35, 44, 48, 46, 38, 37, 44, 37, 39, 46, 48, 42, 34, 38, 37, 33, 44, 40, 35, 44, 37, 51, 44, 31, 37, 35, 38, 38, 36, 39, 38, 31, 41, 40, 40, 39, 41, 37, 41, 49, 46, 44, 44, 44, 39, 44, 43, 37, 36, 43, 32, 38, 42, 33, 42, 36, 51, 23, 38, 36, 36, 46, 37, 49, 36, 43, 46, 35, 34, 35, 44, 40, 39, 38, 41, 43, 45, 56, 43, 38, 43, 40, 35, 46, 48, 41, 41, 30, 42, 44, 41, 46, 37, 44, 45, 43, 34, 50, 37, 40, 46, 39, 32, 40, 53, 43, 46, 42, 46, 34, 39, 41, 40, 43, 36, 31, 37, 35, 39, 45, 47, 45, 46, 46, 40, 48, 46, 47, 33, 44, 39, 41, 39, 40, 46, 37, 39, 43, 39, 40, 41, 39, 37, 36, 40, 45, 40, 39, 38, 44, 37, 35, 32, 41, 39, 46, 35, 32, 42, 45, 39, 36, 36, 30, 45, 35, 45, 39, 47, 43, 33, 35, 36, 36, 50, 38, 42, 40, 39, 43, 33, 32, 43, 36, 45, 49, 44, 41, 35, 45, 45, 40, 43, 29, 40, 43, 37, 45, 35, 39, 36, 39, 52, 38, 41, 42, 37, 38, 42, 38, 43, 34, 38, 40, 42, 41, 38, 37, 50, 46, 41, 42, 44, 39, 46, 44, 39, 36, 41, 33, 42, 44, 47, 41, 43, 39, 50, 53, 45, 37, 45, 32, 42, 43, 34, 41, 40, 34, 41, 49, 39, 41, 35, 46, 30, 45, 40, 43, 42, 47, 43, 47, 41, 44, 43, 41, 32, 42, 42, 35, 28, 44, 45, 35, 36, 43, 46, 42, 38, 52, 46, 42, 32, 35, 43, 40, 35, 40, 49, 45, 41, 48, 40, 42, 40, 37, 38, 38, 38, 34, 40, 40, 38, 47, 46, 48, 40, 33, 44, 42, 27, 44, 48, 41, 38, 45, 38, 34, 36, 40, 37, 45, 42, 35, 44, 34, 36, 41, 42, 44, 39, 36, 45, 42, 47, 39, 40, 47, 46, 40, 46, 40, 35, 50, 40, 34, 43, 36, 43, 38, 45, 36, 36, 40, 39, 46, 44, 39, 42, 43, 37, 36, 47, 40, 35, 38, 35, 28, 40, 36, 36, 46, 32, 48, 39, 45, 32, 46, 35, 44, 40, 35, 43, 31, 36, 33, 30, 43, 38, 45, 42, 46, 47, 34, 40, 37, 41, 44, 45, 40, 38, 39, 42, 36, 38, 33, 43, 43, 43, 38, 39, 46, 52, 32, 38, 45, 37, 36, 35, 36, 45, 41, 36, 40, 32, 42, 40, 40, 45, 40, 42, 41, 36, 48, 48, 43, 45, 33, 34, 35, 42, 43, 44, 46, 43, 43, 40, 37, 41, 37, 39, 43, 51, 39, 32, 45, 38, 40, 44, 45, 37, 39, 44, 35, 42, 36, 33, 33, 34, 49, 40, 41, 39, 38, 46, 41, 33, 41, 49, 33, 37, 39, 40, 46, 47, 47, 38, 40, 41, 45, 49, 44, 41, 37, 48, 39, 37, 38, 47, 40, 38, 33, 44, 39, 39, 33, 45, 45, 33, 34, 42, 37, 32, 31, 45, 47, 37, 38, 38, 36, 46, 38, 41, 38, 41, 38, 45, 32, 32, 32, 43, 36, 36, 42, 34, 37, 42, 40, 37, 37, 36, 37, 37, 40, 38, 35, 37, 34, 35, 37, 41, 48, 44, 45, 49, 52, 44, 32, 41, 42, 40, 43, 38, 37, 35, 50, 45, 44, 43, 43, 38, 44, 32, 43, 42, 44, 40, 39, 37, 47, 40, 44, 31, 40, 38, 36, 42, 34, 37, 42, 51, 47, 41, 43, 47, 31, 42, 45, 44, 46, 39, 37, 44, 40, 36, 45, 36, 49, 38, 45, 42, 42, 36, 37, 41, 45, 30, 40, 41, 42, 35, 39, 45, 45, 40, 36, 34, 44, 39, 44, 46, 41, 41, 41, 37, 40, 32, 40, 40, 40, 35, 35, 42, 38, 45, 41, 40, 49, 40, 35, 45, 49, 53, 35, 40, 35]\n"
          ]
        }
      ]
    },
    {
      "cell_type": "code",
      "source": [
        "# ヒストグラム6 複数データ2\n",
        "\n",
        "fig, ax = plt.subplots()\n",
        "\n",
        "labels = ['Product A', 'Product B', 'Product C']\n",
        "ax.hist((x1, x2, x3), label=labels)  # histメソッドには複数データをタプルで渡す。\n",
        "ax.legend()\n",
        "plt.show()"
      ],
      "metadata": {
        "colab": {
          "base_uri": "https://localhost:8080/",
          "height": 265
        },
        "id": "-eTTv2D-Y5tS",
        "outputId": "aeba27db-da1c-47cf-8dd7-0a5fafa4ad63"
      },
      "execution_count": null,
      "outputs": [
        {
          "output_type": "display_data",
          "data": {
            "image/png": "[encoded data removed]",
            "text/plain": [
              "<Figure size 432x288 with 1 Axes>"
            ]
          },
          "metadata": {
            "needs_background": "light"
          }
        }
      ]
    },
    {
      "cell_type": "code",
      "source": [
        "# ヒストグラム7 積み上げヒストグラム\n",
        "fig, ax = plt.subplots()\n",
        "\n",
        "labels = ['Product A', 'Product B', 'Product C']\n",
        "ax.hist((x1, x2, x3), label=labels, stacked=True)  # stackedの意味は積み重ね。\n",
        "ax.legend()\n",
        "plt.show()"
      ],
      "metadata": {
        "colab": {
          "base_uri": "https://localhost:8080/",
          "height": 265
        },
        "id": "Inaq1fZzaKCu",
        "outputId": "baec5c11-3033-45d1-fb46-f7bc08978a96"
      },
      "execution_count": null,
      "outputs": [
        {
          "output_type": "display_data",
          "data": {
            "image/png": "[encoded data removed]",
            "text/plain": [
              "<Figure size 432x288 with 1 Axes>"
            ]
          },
          "metadata": {
            "needs_background": "light"
          }
        }
      ]
    },
    {
      "cell_type": "markdown",
      "source": [
        "# 7日目 2/7 Matplotlib7～"
      ],
      "metadata": {
        "id": "OuTJBk-tbGE6"
      }
    }
  ]
}