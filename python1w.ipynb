{
  "nbformat": 4,
  "nbformat_minor": 0,
  "metadata": {
    "colab": {
      "name": "python1w",
      "provenance": [],
      "authorship_tag": "ABX9TyOA7vGxD5xJLOpY8emMF4WS",
      "include_colab_link": true
    },
    "kernelspec": {
      "name": "python3",
      "display_name": "Python 3"
    },
    "language_info": {
      "name": "python"
    }
  },
  "cells": [
    {
      "cell_type": "markdown",
      "metadata": {
        "id": "view-in-github",
        "colab_type": "text"
      },
      "source": [
        "<a href=\"https://colab.research.google.com/github/haruya0605037/sample2/blob/main/python1w.ipynb\" target=\"_parent\"><img src=\"https://colab.research.google.com/assets/colab-badge.svg\" alt=\"Open In Colab\"/></a>"
      ]
    },
    {
      "cell_type": "markdown",
      "source": [
        "# 1日目2/1 導入～入門1\n",
        "# 見出し1\n",
        "\n",
        "Markdown記法で見やすく文章を書くことができます。\n",
        "\n",
        "## 見出し2\n",
        "\n",
        "**強調**\n",
        "\n",
        "数式を書くこともできます。\n",
        "\n",
        "$$\n",
        "y=2x+1\n",
        "$$\n",
        "\n",
        "Pythonコードを書くときはコードブロックを使います。\n",
        "\n",
        "```python\n",
        "print(\"Hellow,World\")\n",
        "```\n",
        "\n",
        "- 箇条書\n",
        "- 箇条書\n",
        "  - 箇条書\n",
        "\n",
        "\n",
        "> 引用文\n",
        " \n"
      ],
      "metadata": {
        "id": "MBnY2eH7a4bg"
      }
    },
    {
      "cell_type": "code",
      "source": [
        "print(\"Hellow,World!\")\n",
        "print(\"Hellow,Python\")"
      ],
      "metadata": {
        "colab": {
          "base_uri": "https://localhost:8080/"
        },
        "id": "F13kuPKGaJix",
        "outputId": "a665783f-58ce-4843-c79f-dc50dc53672f"
      },
      "execution_count": null,
      "outputs": [
        {
          "output_type": "stream",
          "name": "stdout",
          "text": [
            "Hellow,World!\n",
            "Hellow,Python\n"
          ]
        }
      ]
    },
    {
      "cell_type": "code",
      "source": [
        "num=3+5\n",
        "print(num)"
      ],
      "metadata": {
        "colab": {
          "base_uri": "https://localhost:8080/"
        },
        "id": "nn5o-JDSpXYE",
        "outputId": "f73d4269-0bcc-404c-de81-61dd7b9fcbc7"
      },
      "execution_count": null,
      "outputs": [
        {
          "output_type": "stream",
          "name": "stdout",
          "text": [
            "8\n"
          ]
        }
      ]
    },
    {
      "cell_type": "code",
      "source": [
        "print(250+100+400)\n",
        "print(-30-40)\n",
        "print(50*9)\n",
        "print(50//3)\n",
        "print(50%3)\n",
        "print(-3//2)"
      ],
      "metadata": {
        "colab": {
          "base_uri": "https://localhost:8080/"
        },
        "id": "OUY7TcqBnFSD",
        "outputId": "aa3cdd49-5df0-420f-d1ce-fc05033e16c7"
      },
      "execution_count": null,
      "outputs": [
        {
          "output_type": "stream",
          "name": "stdout",
          "text": [
            "750\n",
            "-70\n",
            "450\n",
            "16\n",
            "2\n",
            "-2\n"
          ]
        }
      ]
    },
    {
      "cell_type": "code",
      "source": [
        "print(2**3)\n",
        "print(2**0.5)\n",
        "print(type(7*9))\n",
        "print(type(50/4))\n",
        "print(type(50/2))\n",
        "print(2.)\n",
        "print(type(float(2)))\n",
        "print(float(2))\n",
        "print(int(3.7))\n",
        "print(float(3.7))\n",
        "print(3 + 5*4 - 10/2 + 2**0.5)\n",
        "print((3+5) * 4 - 10/2 + 2**0.5)\n",
        "print(abs(-3))"
      ],
      "metadata": {
        "colab": {
          "base_uri": "https://localhost:8080/"
        },
        "id": "GSV5zFRWnV-U",
        "outputId": "2aafe0e5-d5be-4741-db41-4f6b64df7872"
      },
      "execution_count": null,
      "outputs": [
        {
          "output_type": "stream",
          "name": "stdout",
          "text": [
            "8\n",
            "1.4142135623730951\n",
            "<class 'int'>\n",
            "<class 'float'>\n",
            "<class 'float'>\n",
            "2.0\n",
            "<class 'float'>\n",
            "2.0\n",
            "3\n",
            "3.7\n",
            "19.414213562373096\n",
            "28.414213562373096\n",
            "3\n"
          ]
        }
      ]
    },
    {
      "cell_type": "markdown",
      "source": [
        "\n",
        "# 2日目2/2 入門2～4\n",
        "- 色コード<font color=\"\"></font>\n",
        "- ＝、-、+の両端はスペース。\n",
        "- 区切りの,は前の語句に連続。\n",
        "- <font color=\"red\">pythonで変数の組み方によって発生しやすいバグを後で確認。</font>\n",
        "- 累積代入文 += -= *= /=\n",
        "- syntax：文法  \n",
        "invalid：無効  \n",
        "callable：可能  \n",
        "型：int float str\n",
        "- {:+}正の値であれば+を代入  \n",
        "{:.1f}小数点1位まで表記\n",
        "\n",
        "- 学生の年齢19  \n",
        "```\n",
        "print(\"学生の年齢{}\".format(student_age))\n",
        "print(\"学生の年齢\", student_age, sep=\"\")\n",
        "print(\"学生の年齢\"+str(student_age))\n",
        "```\n",
        "- print関数のオプション引数objects、sep、end、file、flush\n",
        "- *objects , 区切り可能  \n",
        ", sep(\"\")はprint()内の区切り文字を指定。デフォルト（省略時）は半角スペース  \n",
        ", end(\"\")は末尾のオブジェクトに値を追加。デフォルトは改行    \n",
        "\n",
        "```\n",
        "print(\"a\", \"b\")\n",
        "print(\"a\")\n",
        "print(\"b\")\n",
        "a b  \n",
        "a  \n",
        "b\n",
        "```\n",
        "- {}は文字列の代入 、 [要素0 , 要素1…, 要素-1]はリスト\n",
        "- リストからスライス[起点インデックス:終点<font color=\"red\">+1</font>インデックス]  \n",
        "[起点インデックス:終点+1インデックス:ステップ数]  \n",
        "要素数はlen()、追加メソッド.append()は1要素ずつ。代入はしない、appendメソッドはNoneを返しているから。\n",
        "```\n",
        "numbers[0, 1, 2, 3]\n",
        "numbers.append(4)\n",
        "print(numbers)\n",
        "```\n",
        "他のメソッドは代入することもある。\n",
        "- メソッドや関数でNONEを返すなど元のリストが変更になるかどうかは確認してから使用したほうがよさそう。\n",
        "\n",
        "- リスト[ , ]、タプル( , )、（\"文字列\"）はシーケンス型。  \n",
        "タプルは編集不可  \n",
        "リスト、タプルは同名関数があるため変数には指定しない。\n",
        "\n",
        "\n",
        "\n",
        "\n",
        "\n",
        "\n"
      ],
      "metadata": {
        "id": "ZfxysSwtstw3"
      }
    },
    {
      "cell_type": "code",
      "source": [
        "# 入門2\n",
        "x = 250 + 100 + 400\n",
        "print(x)\n",
        "print(x*2)\n",
        "y = x/2\n",
        "print(y)\n",
        "s, t = 100, 200\n",
        "print(y + s + t)\n",
        "today_temperature, student_age  = 25, 19\n",
        "print(today_temperature*2, student_age + 2)\n",
        "STANDARD_ATMOSPEERE = 101325\n",
        "x = 1\n",
        "x += 5\n",
        "print(x)\n",
        "x, y = 1, 5\n",
        "x += 2*y\n",
        "print(x)"
      ],
      "metadata": {
        "colab": {
          "base_uri": "https://localhost:8080/"
        },
        "id": "gev0NEHJDNG3",
        "outputId": "4ab7df76-f276-42fe-e183-8df00e6247ce"
      },
      "execution_count": null,
      "outputs": [
        {
          "output_type": "stream",
          "name": "stdout",
          "text": [
            "750\n",
            "1500\n",
            "375.0\n",
            "675.0\n",
            "50 21\n",
            "6\n",
            "11\n"
          ]
        }
      ]
    },
    {
      "cell_type": "code",
      "source": [
        "# 入門3\n",
        "print(\"text\")\n",
        "print(type(\"text\"))\n",
        "x = \"text\"\n",
        "print(x)\n",
        "print(\"learn python\", \"こんにちは\")\n",
        "student_name = \"Alice\"\n",
        "print(student_name)\n",
        "student_age = 19\n",
        "print(\"私の年齢は\" + str(student_age) + \"です\")\n",
        "student_name = \"Alice\"\n",
        "student_age = 19\n",
        "print(\"私の名前は{}で、{}歳です。\".format(student_name, student_age))\n",
        "student_name = \"Alice\"\n",
        "student_age = 19\n",
        "print(\"私は{1}歳で、名前は{0}です。\".format(student_name, student_age))\n",
        "weather_text = \"今日の天気は{}です。\"\n",
        "weather_text = weather_text.format(\"晴れ\")\n",
        "print(weather_text)\n",
        "tenki = \"晴れ\"\n",
        "weather_text = \"今日の天気は{}です。\".format(tenki)\n",
        "print(weather_text)\n",
        "weather_text = \"今日の天気は{}です。\".format(\"晴れ\")\n",
        "print(weather_text)\n",
        "weather_text = \"今日の{}の天気は{}です。\".format(\"お昼\", \"晴れ\")\n",
        "print(weather_text)\n",
        "today_temperature = 3\n",
        "tomorrow_temperature = -5\n",
        "print(\"今日の最高気温は{:+}、明日の最低気温は{:+}です。\".format(today_temperature, tomorrow_temperature))\n",
        "today_temperature = 3.53\n",
        "tomorrow_temperature = -5.27\n",
        "print(\"今日の最高気温は{:.1f}、明日の最低気温は{:.1f}です。\".format(today_temperature, tomorrow_temperature))\n",
        "today_temperature = 3.53\n",
        "tomorrow_temperature = -5.27\n",
        "print(\"今日の最高気温は{1:+.1f}、明日の最低気温は{0:+.1f}です。\".format(today_temperature, tomorrow_temperature))\n",
        "print(\"python\".capitalize())\n",
        "student_age = 19\n",
        "print(\"学生の年齢\", student_age, sep=\":\")"
      ],
      "metadata": {
        "colab": {
          "base_uri": "https://localhost:8080/"
        },
        "id": "nNBv5IhGH7Ms",
        "outputId": "ff395c80-4397-4ce2-947d-48cc2d8998c7",
        "cellView": "code"
      },
      "execution_count": null,
      "outputs": [
        {
          "output_type": "stream",
          "name": "stdout",
          "text": [
            "text\n",
            "<class 'str'>\n",
            "text\n",
            "learn python こんにちは\n",
            "Alice\n",
            "私の年齢は19です\n",
            "私の名前はAliceで、19歳です。\n",
            "私は19歳で、名前はAliceです。\n",
            "今日の天気は晴れです。\n",
            "今日の天気は晴れです。\n",
            "今日の天気は晴れです。\n",
            "今日のお昼の天気は晴れです。\n",
            "今日の最高気温は+3、明日の最低気温は-5です。\n",
            "今日の最高気温は3.5、明日の最低気温は-5.3です。\n",
            "今日の最高気温は-5.3、明日の最低気温は+3.5です。\n",
            "Python\n",
            "学生の年齢:19\n"
          ]
        }
      ]
    },
    {
      "cell_type": "code",
      "source": [
        "# 入門4\n",
        "monthly_average_temperatures = [6, 7, 9, 15, 20, 22, 27, 26, 23, 17, 12, 7]\n",
        "print(monthly_average_temperatures)\n",
        "print(type(monthly_average_temperatures))\n",
        "monthly_average_temperatures = [6, 7, 9, 15, 20, 22, 27, 26, 23, 17, 12, 7]\n",
        "print(\"各月の平均気温は、1月は{}度、12月は{}度です。\".format(monthly_average_temperatures[0], monthly_average_temperatures[-1]))\n",
        "monthly_average_temperatures = [6, 7, 9, 15, 20, 22, 27, 26, 23, 17, 12, 7]\n",
        "monthly_average_temperatures[5] = 24\n",
        "print(monthly_average_temperatures[5])\n",
        "print(monthly_average_temperatures[3:8])\n",
        "print(monthly_average_temperatures[0:7:2])\n",
        "print(monthly_average_temperatures[::5])\n",
        "print(len(monthly_average_temperatures))\n",
        "months = [\"January\", \"February\", \"March\", \"April\", \"May\", \"June\", \"July\", \"August\", \"September\", \"October\", \"November\", \"December\"]\n",
        "odd_and_even = [[0, 2, 4, 6, 8], [1, 3, 5, 7, 9]]\n",
        "mixed = [-5.5, \"Python\", 270, [\"a\", \"b\", \"c\"]]\n",
        "print(months[0:2], odd_and_even[0], mixed[0:2])\n",
        "texts = []\n",
        "texts.append(\"alpha\")\n",
        "texts.append(\"beta\")\n",
        "print(texts)\n",
        "numbers = [0, 1, 2, 3]\n",
        "numbers.append(4)\n",
        "print(numbers)\n",
        "text = \"python\"\n",
        "print(text.capitalize())\n",
        "capitalized_text = text.capitalize()\n",
        "print(capitalized_text)\n",
        "odd_numbers = [1, 3, 5]\n",
        "even_numbers = [2, 4, 6]\n",
        "print(odd_numbers + even_numbers)\n",
        "odd_and_even_numbers = sorted(odd_numbers + even_numbers)\n",
        "print(odd_and_even_numbers)\n",
        "print(odd_numbers)\n",
        "user_ids = (\"A081\", \"A114\", \"A186\")\n",
        "print(user_ids)\n",
        "print(type(user_ids))\n",
        "user_ids1, user_ids2, user_ids3 = user_ids\n",
        "print(user_ids1)\n",
        "empty_tuple = ()\n",
        "print(empty_tuple)\n",
        "print(list(user_ids))"
      ],
      "metadata": {
        "id": "6zELfWeiOOnT",
        "colab": {
          "base_uri": "https://localhost:8080/"
        },
        "outputId": "c466f117-afab-4454-a3a3-59e5439fcb83"
      },
      "execution_count": null,
      "outputs": [
        {
          "output_type": "stream",
          "name": "stdout",
          "text": [
            "[6, 7, 9, 15, 20, 22, 27, 26, 23, 17, 12, 7]\n",
            "<class 'list'>\n",
            "各月の平均気温は、1月は6度、12月は7度です。\n",
            "24\n",
            "[15, 20, 24, 27, 26]\n",
            "[6, 9, 20, 27]\n",
            "[6, 24, 12]\n",
            "12\n",
            "['January', 'February'] [0, 2, 4, 6, 8] [-5.5, 'Python']\n",
            "['alpha', 'beta']\n",
            "[0, 1, 2, 3, 4]\n",
            "Python\n",
            "Python\n",
            "[1, 3, 5, 2, 4, 6]\n",
            "[1, 2, 3, 4, 5, 6]\n",
            "[1, 3, 5]\n",
            "('A081', 'A114', 'A186')\n",
            "<class 'tuple'>\n",
            "A081\n",
            "()\n",
            "['A081', 'A114', 'A186']\n"
          ]
        }
      ]
    },
    {
      "cell_type": "markdown",
      "source": [
        "# 3日目 2/3 入門5～7\n",
        "- ifの後にスペース、文直後に:  \n",
        "ifでない場合、省略もしくはelse、連続する場合はelif。\n",
        "- 比較演算子の左右はスペース\n",
        "- 条件式はブール型（'True' or 'False'）でありブール演算子（'and' 'or' 'not' ）がある。\n",
        "- インデントは半角スペース4個でtabキーは使用しない。  \n",
        "ただし、colabでは標準2個でtabキーで2個追加できる。\n",
        "- 変数を大文字表記にすると定数として扱える。  \n",
        "もし成人年齢の定義が20歳から18歳に変更になった時に、最初の1行だけの修正で対応できる。複数箇所を検索機能や置換機能を使い修正しようとすると、別の意味でも20が使われている場合に面倒なことになる  \n",
        "```\n",
        "ADULT_AGE = 20\n",
        "student_age = 19\n",
        "if student_age < ADULT_AGE:\n",
        "    print(\"{}歳未満です。\".format(ADULT_AGE))\n",
        "```\n",
        "- 数値と文字列の違い。\n",
        "- 制御構文：条件分岐（if）や繰り返し（for、while）\n",
        "- for文：イテラブルオブジェクト(要素を繰り返し取り出せるオブジェクト。例えばシーケンス型の変数（リスト、タプル、文字列））\n",
        "```\n",
        "for x in range(5):\n",
        "    print(x, end=(' '))\n",
        "print()\n",
        "```\n",
        "<font color=\"red\">, end=(' ')で改行を消したら、次にprint()で改行を作り、次のコードへ。</font>\n",
        "- 繰り返しのカウントにはiが使われることが多い。\n",
        "- 関数メモrange()、len()、list()、enumerate()、input()、zip()、reversed()、str()\n",
        "- if文、for文、while文、break文\n",
        "- 関数化はdef  \n",
        "仮引数、実引数、キーワード引数、位置引数  \n",
        "defで宣言後、returnしないと次の関数に反映されない。  \n",
        "関数名(実引数, 実引数)を次の関数に渡す。戻り値、仮引数は渡さなくていい。\n",
        "```\n",
        "def sample_function(x, y):\n",
        "    answer = (x+y) * 2\n",
        "    return answer\n",
        "print(sample_function(3, 5))\n",
        "```\n"
      ],
      "metadata": {
        "id": "6my-_krD1eGZ"
      }
    },
    {
      "cell_type": "code",
      "source": [
        "# 入門5\n",
        "student_name = \"Alice\"\n",
        "student_age = 22\n",
        "if student_age < 20:\n",
        "  print(\"{}は20歳未満です。\".format(student_name))\n",
        "else:\n",
        "  print(\"{}は20歳以上です。\".format(student_name))\n",
        "if student_age < 20:\n",
        "  print(\"{}は20歳未満です。\".format(student_name))\n",
        "elif student_age == 21:\n",
        "  print(\"{}は21歳です。\".format(student_name))\n",
        "elif student_age == 22:\n",
        "  print(\"{}は22歳です。\".format(student_name))\n",
        "else:\n",
        "  print(\"{}は23歳以上です。\".format(student_name))\n",
        "\n",
        "print(19 < 20)\n",
        "print(type(10<20))\n",
        "if True:\n",
        "  print(\"Hello\")\n",
        "\n",
        "if (student_age >= 10) and (student_name):\n",
        "  print(\"{}は10代です。\".format(student_name))\n",
        "\n",
        "no_judgement = False\n",
        "student_name = \"Alice\"\n",
        "student_age = 21\n",
        "if not(no_judgement):\n",
        "  if student_age < 20:\n",
        "    print(\"{}は20歳未満です。\".format(student_name))\n",
        "  else:\n",
        "    print(\"{}は20歳以上です。\".format(student_name))\n",
        "else:\n",
        "  print(\"年齢の判定はしません。\")"
      ],
      "metadata": {
        "colab": {
          "base_uri": "https://localhost:8080/"
        },
        "id": "O8KFOzWFbSc5",
        "outputId": "9ec119cd-2e6e-4d17-a6ae-d6c19816121e"
      },
      "execution_count": null,
      "outputs": [
        {
          "output_type": "stream",
          "name": "stdout",
          "text": [
            "Aliceは20歳以上です。\n",
            "Aliceは22歳です。\n",
            "True\n",
            "<class 'bool'>\n",
            "Hello\n",
            "Aliceは10代です。\n",
            "Aliceは20歳以上です。\n"
          ]
        }
      ]
    },
    {
      "cell_type": "code",
      "source": [
        "# 条件式練習 失敗=変数を数値にするとエラーになる。数値の場合、0を消して1のみにしなければならない。\n",
        "test_pass = 0001\n",
        "if test_pass == 0000:\n",
        "  print(\"認証ができました。\")\n",
        "else:\n",
        "  print(\"認証ができませんでした。\")"
      ],
      "metadata": {
        "colab": {
          "base_uri": "https://localhost:8080/",
          "height": 137
        },
        "id": "VYxXBH3MefuC",
        "outputId": "76074558-6ba7-461d-9860-bcdb19a346f0"
      },
      "execution_count": null,
      "outputs": [
        {
          "output_type": "error",
          "ename": "SyntaxError",
          "evalue": "ignored",
          "traceback": [
            "\u001b[0;36m  File \u001b[0;32m\"<ipython-input-69-56d11d686aba>\"\u001b[0;36m, line \u001b[0;32m2\u001b[0m\n\u001b[0;31m    test_pass = 0001\u001b[0m\n\u001b[0m                   ^\u001b[0m\n\u001b[0;31mSyntaxError\u001b[0m\u001b[0;31m:\u001b[0m invalid token\n"
          ]
        }
      ]
    },
    {
      "cell_type": "code",
      "source": [
        "# 条件式練習 成功1=文字列にしたらできた。\n",
        "test_pass = \"0001\"\n",
        "if test_pass == \"0000\":\n",
        "  print(\"認証ができました。\")\n",
        "else:\n",
        "  print(\"認証ができませんでした。\")"
      ],
      "metadata": {
        "colab": {
          "base_uri": "https://localhost:8080/"
        },
        "id": "Iu9JBCtKyLGX",
        "outputId": "4054e43a-dd39-42ef-8728-d809e838b0a0"
      },
      "execution_count": null,
      "outputs": [
        {
          "output_type": "stream",
          "name": "stdout",
          "text": [
            "認証ができませんでした。\n"
          ]
        }
      ]
    },
    {
      "cell_type": "code",
      "source": [
        "# 条件式練習 成功2=input()を使う\n",
        "test_pass = input(\"Test_pass:\")\n",
        "if test_pass == \"0000\":\n",
        "  print(\"認証ができました。\")\n",
        "else:\n",
        "  print(\"認証ができませんでした。\")"
      ],
      "metadata": {
        "colab": {
          "base_uri": "https://localhost:8080/"
        },
        "id": "ddRnPx2kpJ8v",
        "outputId": "b89dcab6-dc56-41eb-d28d-789584f32bf0"
      },
      "execution_count": null,
      "outputs": [
        {
          "output_type": "stream",
          "name": "stdout",
          "text": [
            "Test_pass:0001\n",
            "認証ができませんでした。\n"
          ]
        }
      ]
    },
    {
      "cell_type": "code",
      "source": [
        "# 入門6\n",
        "numbers = [0, 1, 2, 3, 4,]\n",
        "for number in numbers:\n",
        "  print(number)\n",
        "\n",
        "user_ids = (\"A081\", \"A114\", \"A186\")\n",
        "for user_id in user_ids:\n",
        "  print(user_id)\n",
        "\n",
        "text = \"Python\"\n",
        "for character in text:\n",
        "  print(character)\n",
        "\n",
        "for i in range(5):\n",
        "  print(i)\n",
        "for x in range(5):\n",
        "  print(x, end=(' '))\n",
        "print()\n",
        "\n",
        "print(range(5))\n",
        "print(list(range(5)))\n",
        "\n",
        "for i in range(5, 10, 2):\n",
        "  print(i)\n",
        "\n",
        "for i in range(9, -1, -1):\n",
        "  print(i, end=(\" \"))\n",
        "print()\n",
        "for i in reversed(range(10)):\n",
        "  print(i, end=(\" \"))\n",
        "print()\n",
        "\n",
        "monthly_average_temperatures = [6, 7, 9, 15, 20, 22]\n",
        "for i in range(len(monthly_average_temperatures)):\n",
        "  print(\"{}月の平均気温は{}度です。\".format(i+1, monthly_average_temperatures[i]))\n",
        "for i, temperature in enumerate(monthly_average_temperatures):\n",
        "  print(\"{}月の平均気温は{}度です。\".format(i+1, temperature))\n",
        "\n",
        "# range(-1, 0)でリスト[0, +1]だからrange(1, 13)になる。\n",
        "MONTH_NUMBERS = list(range(1, 13))\n",
        "monthly_average_temperatures = [6, 7, 9, 15, 20, 22]\n",
        "for month_number, temperature in zip(MONTH_NUMBERS, monthly_average_temperatures):\n",
        "  print(\"{}月の平均気温は{}度です。\".format(month_number, temperature))\n",
        "\n",
        "num = 0\n",
        "while num < 10:\n",
        "  print(num, end=(\" \"))\n",
        "  num += 3\n",
        "print()\n",
        "\n",
        "num = 0\n",
        "while True:\n",
        "  print(num, end=(\" \"))\n",
        "  num += 3\n",
        "  if num >= 10:\n",
        "    break\n",
        "print()"
      ],
      "metadata": {
        "colab": {
          "base_uri": "https://localhost:8080/"
        },
        "id": "fxHztEu0SQhT",
        "outputId": "3e87000e-7aea-4d81-9a43-7a7d12e591e9"
      },
      "execution_count": 57,
      "outputs": [
        {
          "output_type": "stream",
          "name": "stdout",
          "text": [
            "0\n",
            "1\n",
            "2\n",
            "3\n",
            "4\n",
            "A081\n",
            "A114\n",
            "A186\n",
            "P\n",
            "y\n",
            "t\n",
            "h\n",
            "o\n",
            "n\n",
            "0\n",
            "1\n",
            "2\n",
            "3\n",
            "4\n",
            "0 1 2 3 4 \n",
            "range(0, 5)\n",
            "[0, 1, 2, 3, 4]\n",
            "5\n",
            "7\n",
            "9\n",
            "9 8 7 6 5 4 3 2 1 0 \n",
            "9 8 7 6 5 4 3 2 1 0 \n",
            "1月の平均気温は6度です。\n",
            "2月の平均気温は7度です。\n",
            "3月の平均気温は9度です。\n",
            "4月の平均気温は15度です。\n",
            "5月の平均気温は20度です。\n",
            "6月の平均気温は22度です。\n",
            "1月の平均気温は6度です。\n",
            "2月の平均気温は7度です。\n",
            "3月の平均気温は9度です。\n",
            "4月の平均気温は15度です。\n",
            "5月の平均気温は20度です。\n",
            "6月の平均気温は22度です。\n",
            "1月の平均気温は6度です。\n",
            "2月の平均気温は7度です。\n",
            "3月の平均気温は9度です。\n",
            "4月の平均気温は15度です。\n",
            "5月の平均気温は20度です。\n",
            "6月の平均気温は22度です。\n",
            "0 3 6 9 \n",
            "0 3 6 9 \n"
          ]
        }
      ]
    },
    {
      "cell_type": "code",
      "source": [
        "# 入門7\n",
        "def print_hello_world():\n",
        "  print(\"Hello, World!\")\n",
        "\n",
        "print_hello_world()\n",
        "\n",
        "def print_hello_something(something):\n",
        "  print(\"Hello, {}!\".format(something))\n",
        "\n",
        "print_hello_something(\"Python\")\n",
        "\n",
        "def print_hello_something(something, end):\n",
        "  print(\"Hello, {}{}\".format(something, end))\n",
        "\n",
        "print_hello_something(\"Python\", \"?\")\n",
        "\n",
        "def print_hello_something(something, end = \"!\"):\n",
        "  print(\"Hello, {}{}\".format(something, end))\n",
        "\n",
        "print_hello_something(\"Python\")\n",
        "print_hello_something(\"Python\", \"?\")\n",
        "\n",
        "def hello_something(something, end = \"!\"):\n",
        "  return\"Hello, {}{}\".format(something, end)\n",
        "\n",
        "print(hello_something(\"Python\", end = \"!!\"))\n",
        "\n",
        "def sample_function(x, y):\n",
        "  answer = (x+y) * 2\n",
        "  return answer\n",
        "\n",
        "print(sample_function(3, 5))\n",
        "print(sample_function(10, 3))\n",
        "print(sample_function(-20, -10))\n",
        "\n",
        "def sample_function2(x, y):\n",
        "  answer1 = (x+y) * 2\n",
        "  answer2 = answer1 + 10\n",
        "  return answer1, answer2\n",
        "\n",
        "answer1, answer2 = sample_function2(3, 5)\n",
        "print(answer1)\n",
        "print(answer2)\n",
        "\n",
        "# ↑戻り値が複数の場合、渡す関数に　戻り値＝定義関数　を宣言してから使用する。\n",
        "\n",
        "def sample_function2(x, y):\n",
        "  answer1 = (x+y) * 2\n",
        "  answer2 = answer1 + 10\n",
        "  return answer1, answer2\n",
        "\n",
        "print(sample_function2(3, 5))\n",
        "\n",
        "ADULT_AGE = 20\n",
        "student_name = \"Alice\"\n",
        "student_age = 22\n",
        "def text_adult_age(personal_age, adult_age):\n",
        "  \"\"\"\n",
        "  元コード\n",
        "  if student_age < ADULT_AGE:\n",
        "    print(\"{}は{}歳未満です。\".format(student_name, ADULT_AGE))\n",
        "  else:\n",
        "    print(\"{}は{}歳以上です。\".format(student_name, ADULT_AGE))\n",
        "  \"\"\"\n",
        "  if personal_age > adult_age:\n",
        "    return \"{}歳以上\".format(adult_age)\n",
        "  else:\n",
        "    return \"{}歳未満\".format(adult_age)\n",
        "\n",
        "print(\"{}は{}です。\".format(student_name, text_adult_age(student_age, ADULT_AGE)))\n"
      ],
      "metadata": {
        "colab": {
          "base_uri": "https://localhost:8080/"
        },
        "id": "TCY__JtR3eGN",
        "outputId": "cc97871b-ed51-49aa-c395-cd56b0047ac4"
      },
      "execution_count": 87,
      "outputs": [
        {
          "output_type": "stream",
          "name": "stdout",
          "text": [
            "Hello, World!\n",
            "Hello, Python!\n",
            "Hello, Python?\n",
            "Hello, Python!\n",
            "Hello, Python?\n",
            "Hello, Python!!\n",
            "16\n",
            "26\n",
            "-60\n",
            "16\n",
            "26\n",
            "(16, 26)\n",
            "Aliceは20歳以上です。\n"
          ]
        }
      ]
    },
    {
      "cell_type": "code",
      "source": [
        "# 疑問メモ\n",
        "ADULT_AGE = 20\n",
        "student_name = \"Alice\"\n",
        "student_age = 19\n",
        "def text_adult_age(personal_age, adult_age = 20): #1 ここの=20\n",
        "   if personal_age > adult_age:\n",
        "    return \"{}歳以上\".format(adult_age)\n",
        "   else:\n",
        "    return \"{}歳未満\".format(adult_age)\n",
        "\n",
        "print(\"{}は{}です。\".format(student_name, text_adult_age(student_age, adult_age = ADULT_AGE))) #2 ここのadult_age="
      ],
      "metadata": {
        "colab": {
          "base_uri": "https://localhost:8080/"
        },
        "id": "_aXLOZK4Pnyt",
        "outputId": "714fa3c4-7618-4838-a03a-ae87fc2f248e"
      },
      "execution_count": 93,
      "outputs": [
        {
          "output_type": "stream",
          "name": "stdout",
          "text": [
            "Aliceは20歳未満です。\n"
          ]
        }
      ]
    },
    {
      "cell_type": "code",
      "source": [
        "# メモ2\n",
        "def sample_function(x, y):\n",
        "  answer = (x+y) * 2\n",
        "  return answer\n",
        "\n",
        "print(\"点数\", sample_function(3, 5))"
      ],
      "metadata": {
        "colab": {
          "base_uri": "https://localhost:8080/"
        },
        "id": "Jfxk11KOVLLn",
        "outputId": "ff35ab67-3172-4b43-c870-9df6aa0c92df"
      },
      "execution_count": 94,
      "outputs": [
        {
          "output_type": "stream",
          "name": "stdout",
          "text": [
            "点数 16\n"
          ]
        }
      ]
    }
  ]
}